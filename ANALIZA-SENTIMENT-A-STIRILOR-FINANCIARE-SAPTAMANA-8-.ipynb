{
 "cells": [
  {
   "cell_type": "markdown",
   "metadata": {},
   "source": [
    "# ANALIZA SENTIMENT A STIRILOR FINANCIARE"
   ]
  },
  {
   "cell_type": "markdown",
   "metadata": {},
   "source": [
    "ACTIVAREA PACHETELOR UTILIZATE"
   ]
  },
  {
   "cell_type": "code",
   "execution_count": 3,
   "metadata": {},
   "outputs": [],
   "source": [
    "import pandas as pd\n",
    "import numpy as np\n",
    "import seaborn as sns\n",
    "import matplotlib.pyplot as plt\n",
    "from sklearn.feature_extraction.text import CountVectorizer\n",
    "import nltk\n",
    "import string\n",
    "import re"
   ]
  },
  {
   "cell_type": "markdown",
   "metadata": {},
   "source": [
    "IMPORTAREA SETULUI DE DATE"
   ]
  },
  {
   "cell_type": "code",
   "execution_count": 4,
   "metadata": {},
   "outputs": [],
   "source": [
    "\n",
    "tweet_df = pd.read_excel('news.xls', sep=';', encoding='latin-1', header=None, names = [\"categorie\",\"comentariu\"])"
   ]
  },
  {
   "cell_type": "markdown",
   "metadata": {},
   "source": [
    "AFISAREA SETULUI DE DATE "
   ]
  },
  {
   "cell_type": "code",
   "execution_count": 5,
   "metadata": {},
   "outputs": [
    {
     "data": {
      "text/html": [
       "<div>\n",
       "<style scoped>\n",
       "    .dataframe tbody tr th:only-of-type {\n",
       "        vertical-align: middle;\n",
       "    }\n",
       "\n",
       "    .dataframe tbody tr th {\n",
       "        vertical-align: top;\n",
       "    }\n",
       "\n",
       "    .dataframe thead th {\n",
       "        text-align: right;\n",
       "    }\n",
       "</style>\n",
       "<table border=\"1\" class=\"dataframe\">\n",
       "  <thead>\n",
       "    <tr style=\"text-align: right;\">\n",
       "      <th></th>\n",
       "      <th>categorie</th>\n",
       "      <th>comentariu</th>\n",
       "    </tr>\n",
       "  </thead>\n",
       "  <tbody>\n",
       "    <tr>\n",
       "      <td>0</td>\n",
       "      <td>neutru</td>\n",
       "      <td>„Potrivit lui Gran compania nu intenționează ...</td>\n",
       "    </tr>\n",
       "    <tr>\n",
       "      <td>1</td>\n",
       "      <td>neutru</td>\n",
       "      <td>\"Technopolis intenționează să dezvolte în eta...</td>\n",
       "    </tr>\n",
       "    <tr>\n",
       "      <td>2</td>\n",
       "      <td>negativ</td>\n",
       "      <td>„Compania internațională din industria electr...</td>\n",
       "    </tr>\n",
       "    <tr>\n",
       "      <td>3</td>\n",
       "      <td>pozitiv</td>\n",
       "      <td>odată cu noua fabrică de producție compania ș...</td>\n",
       "    </tr>\n",
       "    <tr>\n",
       "      <td>4</td>\n",
       "      <td>pozitiv</td>\n",
       "      <td>\"Conform strategiei actualizate a companiei p...</td>\n",
       "    </tr>\n",
       "    <tr>\n",
       "      <td>...</td>\n",
       "      <td>...</td>\n",
       "      <td>...</td>\n",
       "    </tr>\n",
       "    <tr>\n",
       "      <td>4841</td>\n",
       "      <td>negativ</td>\n",
       "      <td>LONDON MarketWatch - Prețurile acțiunilor s-a...</td>\n",
       "    </tr>\n",
       "    <tr>\n",
       "      <td>4842</td>\n",
       "      <td>neutru</td>\n",
       "      <td>\"vânzările de bere Rinkuskiai au scăzut cu 65...</td>\n",
       "    </tr>\n",
       "    <tr>\n",
       "      <td>4843</td>\n",
       "      <td>negativ</td>\n",
       "      <td>„Profitul operațional a scăzut la 354 milioan...</td>\n",
       "    </tr>\n",
       "    <tr>\n",
       "      <td>4844</td>\n",
       "      <td>negativ</td>\n",
       "      <td>„Vânzările nete ale segmentului Hârtie au scă...</td>\n",
       "    </tr>\n",
       "    <tr>\n",
       "      <td>4845</td>\n",
       "      <td>negativ</td>\n",
       "      <td>„Vânzările în Finlanda au scăzut cu 105% în i...</td>\n",
       "    </tr>\n",
       "  </tbody>\n",
       "</table>\n",
       "<p>4846 rows × 2 columns</p>\n",
       "</div>"
      ],
      "text/plain": [
       "     categorie                                         comentariu\n",
       "0       neutru   „Potrivit lui Gran compania nu intenționează ...\n",
       "1       neutru   \"Technopolis intenționează să dezvolte în eta...\n",
       "2      negativ   „Compania internațională din industria electr...\n",
       "3      pozitiv   odată cu noua fabrică de producție compania ș...\n",
       "4      pozitiv   \"Conform strategiei actualizate a companiei p...\n",
       "...        ...                                                ...\n",
       "4841   negativ   LONDON MarketWatch - Prețurile acțiunilor s-a...\n",
       "4842    neutru   \"vânzările de bere Rinkuskiai au scăzut cu 65...\n",
       "4843   negativ   „Profitul operațional a scăzut la 354 milioan...\n",
       "4844   negativ   „Vânzările nete ale segmentului Hârtie au scă...\n",
       "4845   negativ   „Vânzările în Finlanda au scăzut cu 105% în i...\n",
       "\n",
       "[4846 rows x 2 columns]"
      ]
     },
     "execution_count": 5,
     "metadata": {},
     "output_type": "execute_result"
    }
   ],
   "source": [
    "tweet_df\n"
   ]
  },
  {
   "cell_type": "markdown",
   "metadata": {},
   "source": [
    "VIZUALIZAREA PRIMELOR SI ULTIMELOR LINII"
   ]
  },
  {
   "cell_type": "code",
   "execution_count": 6,
   "metadata": {},
   "outputs": [
    {
     "data": {
      "text/plain": [
       "<bound method NDFrame.tail of      categorie                                         comentariu\n",
       "0       neutru   „Potrivit lui Gran compania nu intenționează ...\n",
       "1       neutru   \"Technopolis intenționează să dezvolte în eta...\n",
       "2      negativ   „Compania internațională din industria electr...\n",
       "3      pozitiv   odată cu noua fabrică de producție compania ș...\n",
       "4      pozitiv   \"Conform strategiei actualizate a companiei p...\n",
       "...        ...                                                ...\n",
       "4841   negativ   LONDON MarketWatch - Prețurile acțiunilor s-a...\n",
       "4842    neutru   \"vânzările de bere Rinkuskiai au scăzut cu 65...\n",
       "4843   negativ   „Profitul operațional a scăzut la 354 milioan...\n",
       "4844   negativ   „Vânzările nete ale segmentului Hârtie au scă...\n",
       "4845   negativ   „Vânzările în Finlanda au scăzut cu 105% în i...\n",
       "\n",
       "[4846 rows x 2 columns]>"
      ]
     },
     "execution_count": 6,
     "metadata": {},
     "output_type": "execute_result"
    }
   ],
   "source": [
    "tweet_df.head\n",
    "tweet_df.tail"
   ]
  },
  {
   "cell_type": "markdown",
   "metadata": {},
   "source": [
    "VIZUALIZAREA DIMENSIUNII SETULUI DE DATE"
   ]
  },
  {
   "cell_type": "code",
   "execution_count": 7,
   "metadata": {},
   "outputs": [
    {
     "name": "stdout",
     "output_type": "stream",
     "text": [
      "(4846, 2)\n"
     ]
    }
   ],
   "source": [
    "print(tweet_df.shape)"
   ]
  },
  {
   "cell_type": "markdown",
   "metadata": {},
   "source": [
    "PREZENTAREA VARIABILELOR SETULUI DE DATE"
   ]
  },
  {
   "cell_type": "code",
   "execution_count": 8,
   "metadata": {},
   "outputs": [
    {
     "name": "stdout",
     "output_type": "stream",
     "text": [
      "(4846, 2)\n",
      "NUME COLOANE Index(['categorie', 'comentariu'], dtype='object')\n",
      "<class 'pandas.core.frame.DataFrame'>\n",
      "RangeIndex: 4846 entries, 0 to 4845\n",
      "Data columns (total 2 columns):\n",
      "categorie     4846 non-null object\n",
      "comentariu    4846 non-null object\n",
      "dtypes: object(2)\n",
      "memory usage: 75.8+ KB\n",
      "None\n"
     ]
    }
   ],
   "source": [
    "\n",
    "print(tweet_df.shape)\n",
    "print(\"NUME COLOANE\" , tweet_df.columns)\n",
    "\n",
    "print(tweet_df.info())"
   ]
  },
  {
   "cell_type": "markdown",
   "metadata": {},
   "source": [
    "PREZENTAREA DESCRIERII SETULUI DE DATE"
   ]
  },
  {
   "cell_type": "code",
   "execution_count": 9,
   "metadata": {},
   "outputs": [
    {
     "data": {
      "text/html": [
       "<div>\n",
       "<style scoped>\n",
       "    .dataframe tbody tr th:only-of-type {\n",
       "        vertical-align: middle;\n",
       "    }\n",
       "\n",
       "    .dataframe tbody tr th {\n",
       "        vertical-align: top;\n",
       "    }\n",
       "\n",
       "    .dataframe thead th {\n",
       "        text-align: right;\n",
       "    }\n",
       "</style>\n",
       "<table border=\"1\" class=\"dataframe\">\n",
       "  <thead>\n",
       "    <tr style=\"text-align: right;\">\n",
       "      <th></th>\n",
       "      <th>categorie</th>\n",
       "      <th>comentariu</th>\n",
       "    </tr>\n",
       "  </thead>\n",
       "  <tbody>\n",
       "    <tr>\n",
       "      <td>count</td>\n",
       "      <td>4846</td>\n",
       "      <td>4846</td>\n",
       "    </tr>\n",
       "    <tr>\n",
       "      <td>unique</td>\n",
       "      <td>3</td>\n",
       "      <td>4827</td>\n",
       "    </tr>\n",
       "    <tr>\n",
       "      <td>top</td>\n",
       "      <td>neutru</td>\n",
       "      <td>„Compania deservește clienții din diverse ind...</td>\n",
       "    </tr>\n",
       "    <tr>\n",
       "      <td>freq</td>\n",
       "      <td>2879</td>\n",
       "      <td>2</td>\n",
       "    </tr>\n",
       "  </tbody>\n",
       "</table>\n",
       "</div>"
      ],
      "text/plain": [
       "       categorie                                         comentariu\n",
       "count       4846                                               4846\n",
       "unique         3                                               4827\n",
       "top       neutru   „Compania deservește clienții din diverse ind...\n",
       "freq        2879                                                  2"
      ]
     },
     "execution_count": 9,
     "metadata": {},
     "output_type": "execute_result"
    }
   ],
   "source": [
    "tweet_df.describe()"
   ]
  },
  {
   "cell_type": "markdown",
   "metadata": {},
   "source": [
    "VERIFICAREA EXISTENTEI VALORILOR LIPSA"
   ]
  },
  {
   "cell_type": "code",
   "execution_count": 10,
   "metadata": {},
   "outputs": [
    {
     "data": {
      "text/plain": [
       "categorie     0\n",
       "comentariu    0\n",
       "dtype: int64"
      ]
     },
     "execution_count": 10,
     "metadata": {},
     "output_type": "execute_result"
    }
   ],
   "source": [
    "tweet_df.isna().sum()"
   ]
  },
  {
   "cell_type": "markdown",
   "metadata": {},
   "source": [
    "VIZUALIZAREA TEXTULUI PE CATEGORII"
   ]
  },
  {
   "cell_type": "code",
   "execution_count": 11,
   "metadata": {},
   "outputs": [
    {
     "data": {
      "text/plain": [
       "<matplotlib.axes._subplots.AxesSubplot at 0x25948a76d08>"
      ]
     },
     "execution_count": 11,
     "metadata": {},
     "output_type": "execute_result"
    },
    {
     "data": {
      "image/png": "[encoded data removed]",
      "text/plain": [
       "<Figure size 432x288 with 1 Axes>"
      ]
     },
     "metadata": {
      "needs_background": "light"
     },
     "output_type": "display_data"
    }
   ],
   "source": [
    "sns.countplot(x=\"categorie\",data=tweet_df)"
   ]
  },
  {
   "cell_type": "markdown",
   "metadata": {},
   "source": [
    "# TEXT PRE-PROCESSING"
   ]
  },
  {
   "cell_type": "markdown",
   "metadata": {},
   "source": [
    "1. ELIMINAREA SEMNELOR DE PUNCTUATIE SI TRANSFORMAREA LITERELOR MARI IN LITERE MICI"
   ]
  },
  {
   "cell_type": "code",
   "execution_count": 155,
   "metadata": {},
   "outputs": [
    {
     "data": {
      "text/html": [
       "<div>\n",
       "<style scoped>\n",
       "    .dataframe tbody tr th:only-of-type {\n",
       "        vertical-align: middle;\n",
       "    }\n",
       "\n",
       "    .dataframe tbody tr th {\n",
       "        vertical-align: top;\n",
       "    }\n",
       "\n",
       "    .dataframe thead th {\n",
       "        text-align: right;\n",
       "    }\n",
       "</style>\n",
       "<table border=\"1\" class=\"dataframe\">\n",
       "  <thead>\n",
       "    <tr style=\"text-align: right;\">\n",
       "      <th></th>\n",
       "      <th>categorie</th>\n",
       "      <th>comentariu</th>\n",
       "    </tr>\n",
       "  </thead>\n",
       "  <tbody>\n",
       "    <tr>\n",
       "      <td>0</td>\n",
       "      <td>neutru</td>\n",
       "      <td>„potrivit lui gran compania nu intenționează să mute toată producția în rusia deși acolo crește...</td>\n",
       "    </tr>\n",
       "    <tr>\n",
       "      <td>1</td>\n",
       "      <td>neutru</td>\n",
       "      <td>technopolis intenționează să dezvolte în etape o suprafață de cel puțin  de metri pătrați pentr...</td>\n",
       "    </tr>\n",
       "    <tr>\n",
       "      <td>2</td>\n",
       "      <td>negativ</td>\n",
       "      <td>„compania internațională din industria electronică elcoteq a concediat zeci de angajați din ins...</td>\n",
       "    </tr>\n",
       "    <tr>\n",
       "      <td>3</td>\n",
       "      <td>pozitiv</td>\n",
       "      <td>odată cu noua fabrică de producție compania șiar crește capacitatea de a satisface creșterea pr...</td>\n",
       "    </tr>\n",
       "    <tr>\n",
       "      <td>4</td>\n",
       "      <td>pozitiv</td>\n",
       "      <td>conform strategiei actualizate a companiei pentru anii  basware vizează o creștere pe termen lu...</td>\n",
       "    </tr>\n",
       "    <tr>\n",
       "      <td>5</td>\n",
       "      <td>pozitiv</td>\n",
       "      <td>finanțarea creșterii aspocomp aspocomp își urmărește în mod agresiv strategia de creștere conce...</td>\n",
       "    </tr>\n",
       "    <tr>\n",
       "      <td>6</td>\n",
       "      <td>pozitiv</td>\n",
       "      <td>„pentru ultimul trimestru al anului  vânzările nete ale componentei sau dublat la  milioane eur...</td>\n",
       "    </tr>\n",
       "    <tr>\n",
       "      <td>7</td>\n",
       "      <td>pozitiv</td>\n",
       "      <td>„în al treilea trimestru al anului  vânzările nete au crescut cu  până la  milioane eur iar pro...</td>\n",
       "    </tr>\n",
       "    <tr>\n",
       "      <td>8</td>\n",
       "      <td>pozitiv</td>\n",
       "      <td>profitul operațional a crescut la  milioane eur de la  milioane eur în perioada corespunzătoare...</td>\n",
       "    </tr>\n",
       "    <tr>\n",
       "      <td>9</td>\n",
       "      <td>pozitiv</td>\n",
       "      <td>profitul operațional a totalizat  milioane eur în creștere față de  milioane eur în  reprezentâ...</td>\n",
       "    </tr>\n",
       "  </tbody>\n",
       "</table>\n",
       "</div>"
      ],
      "text/plain": [
       "  categorie  \\\n",
       "0    neutru   \n",
       "1    neutru   \n",
       "2   negativ   \n",
       "3   pozitiv   \n",
       "4   pozitiv   \n",
       "5   pozitiv   \n",
       "6   pozitiv   \n",
       "7   pozitiv   \n",
       "8   pozitiv   \n",
       "9   pozitiv   \n",
       "\n",
       "                                                                                            comentariu  \n",
       "0   „potrivit lui gran compania nu intenționează să mute toată producția în rusia deși acolo crește...  \n",
       "1   technopolis intenționează să dezvolte în etape o suprafață de cel puțin  de metri pătrați pentr...  \n",
       "2   „compania internațională din industria electronică elcoteq a concediat zeci de angajați din ins...  \n",
       "3   odată cu noua fabrică de producție compania șiar crește capacitatea de a satisface creșterea pr...  \n",
       "4   conform strategiei actualizate a companiei pentru anii  basware vizează o creștere pe termen lu...  \n",
       "5   finanțarea creșterii aspocomp aspocomp își urmărește în mod agresiv strategia de creștere conce...  \n",
       "6   „pentru ultimul trimestru al anului  vânzările nete ale componentei sau dublat la  milioane eur...  \n",
       "7   „în al treilea trimestru al anului  vânzările nete au crescut cu  până la  milioane eur iar pro...  \n",
       "8   profitul operațional a crescut la  milioane eur de la  milioane eur în perioada corespunzătoare...  \n",
       "9   profitul operațional a totalizat  milioane eur în creștere față de  milioane eur în  reprezentâ...  "
      ]
     },
     "execution_count": 155,
     "metadata": {},
     "output_type": "execute_result"
    }
   ],
   "source": [
    "\n",
    "def remove_punct(text):\n",
    "    text  = \"\".join([char for char in text if char not in string.punctuation])\n",
    "    text = re.sub('[0-9]+', '', text)\n",
    "    text = text.lower()\n",
    "    return text\n",
    "\n",
    "tweet_df['comentariu'] = tweet_df['comentariu'].apply(lambda x: remove_punct(x))\n",
    "tweet_df.head(10)"
   ]
  },
  {
   "cell_type": "markdown",
   "metadata": {},
   "source": [
    "2. TOKENIZAREA SI ELIMINAREA CUVINTELOR DE OPRIRE"
   ]
  },
  {
   "cell_type": "code",
   "execution_count": 156,
   "metadata": {},
   "outputs": [
    {
     "name": "stdout",
     "output_type": "stream",
     "text": [
      "['a', 'abia', 'acea', 'aceasta', 'această', 'aceea', 'aceeasi', 'acei', 'aceia', 'acel', 'acela', 'acelasi', 'acele', 'acelea', 'acest', 'acesta', 'aceste', 'acestea', 'acestei', 'acestia', 'acestui', 'aceşti', 'aceştia', 'adica', 'ai', 'aia', 'aibă', 'aici', 'al', 'ala', 'ale', 'alea', 'alt', 'alta', 'altceva', 'altcineva', 'alte', 'altfel', 'alti', 'altii', 'altul', 'am', 'anume', 'apoi', 'ar', 'are', 'as', 'asa', 'asta', 'astea', 'astfel', 'asupra', 'atare', 'atat', 'atata', 'atatea', 'atatia', 'ati', 'atit', 'atita', 'atitea', 'atitia', 'atunci', 'au', 'avea', 'avem', 'aveţi', 'avut', 'aş', 'aţi', 'ba', 'ca', 'cam', 'cand', 'care', 'careia', 'carora', 'caruia', 'cat', 'catre', 'ce', 'cea', 'ceea', 'cei', 'ceilalti', 'cel', 'cele', 'celor', 'ceva', 'chiar', 'ci', 'cind', 'cine', 'cineva', 'cit', 'cita', 'cite', 'citeva', 'citi', 'citiva', 'cu', 'cui', 'cum', 'cumva', 'cât', 'câte', 'câtva', 'câţi', 'cînd', 'cît', 'cîte', 'cîtva', 'cîţi', 'că', 'căci', 'cărei', 'căror', 'cărui', 'către', 'da', 'daca', 'dacă', 'dar', 'dat', 'dată', 'dau', 'de', 'deasupra', 'deci', 'decit', 'deja', 'desi', 'despre', 'deşi', 'din', 'dintr', 'dintr-', 'dintre', 'doar', 'doi', 'doilea', 'două', 'drept', 'dupa', 'după', 'dă', 'e', 'ea', 'ei', 'el', 'ele', 'era', 'eram', 'este', 'eu', 'eşti', 'face', 'fara', 'fata', 'fel', 'fi', 'fie', 'fiecare', 'fii', 'fim', 'fiu', 'fiţi', 'foarte', 'fost', 'fără', 'i', 'ia', 'iar', 'ii', 'il', 'imi', 'in', 'inainte', 'inapoi', 'inca', 'incit', 'insa', 'intr', 'intre', 'isi', 'iti', 'la', 'le', 'li', 'lor', 'lui', 'lângă', 'lîngă', 'm', 'ma', 'mai', 'mea', 'mei', 'mele', 'mereu', 'meu', 'mi', 'mie', 'mine', 'mod', 'mult', 'multa', 'multe', 'multi', 'multă', 'mulţi', 'mâine', 'mîine', 'mă', 'ne', 'ni', 'nici', 'nimeni', 'nimic', 'niste', 'nişte', 'noastre', 'noastră', 'noi', 'nostri', 'nostru', 'nou', 'noua', 'nouă', 'noştri', 'nu', 'numai', 'o', 'or', 'ori', 'oricare', 'orice', 'oricine', 'oricum', 'oricând', 'oricât', 'oricînd', 'oricît', 'oriunde', 'pai', 'parca', 'patra', 'patru', 'pe', 'pentru', 'peste', 'pic', 'pina', 'poate', 'pot', 'prea', 'prima', 'primul', 'prin', 'printr-', 'putini', 'puţin', 'puţina', 'puţină', 'până', 'pînă', 'sa', 'sa-mi', 'sa-ti', 'sai', 'sale', 'sau', 'se', 'si', 'sint', 'sintem', 'spate', 'spre', 'sub', 'sunt', 'suntem', 'sunteţi', 'sus', 'să', 'săi', 'său', 't', 'ta', 'tale', 'te', 'ti', 'tine', 'toata', 'toate', 'toată', 'tocmai', 'tot', 'toti', 'totul', 'totusi', 'totuşi', 'toţi', 'trei', 'treia', 'treilea', 'tu', 'tuturor', 'tăi', 'tău', 'u', 'ul', 'ului', 'un', 'una', 'unde', 'undeva', 'unei', 'uneia', 'unele', 'uneori', 'unii', 'unor', 'unora', 'unu', 'unui', 'unuia', 'unul', 'v', 'va', 'vi', 'voastre', 'voastră', 'voi', 'vom', 'vor', 'vostru', 'vouă', 'voştri', 'vreo', 'vreun', 'vă', 'zi', 'zice', 'îi', 'îl', 'îmi', 'în', 'îţi', 'ăla', 'ălea', 'ăsta', 'ăstea', 'ăştia', 'şi', 'ţi', 'ţie']\n"
     ]
    },
    {
     "name": "stderr",
     "output_type": "stream",
     "text": [
      "[nltk_data] Downloading package stopwords to\n",
      "[nltk_data]     C:\\Users\\40751\\AppData\\Roaming\\nltk_data...\n",
      "[nltk_data]   Package stopwords is already up-to-date!\n"
     ]
    }
   ],
   "source": [
    "\n",
    "import nltk\n",
    "nltk.download('stopwords')\n",
    "stopword = nltk.corpus.stopwords.words('romanian')\n",
    "print(stopword)\n",
    "\n"
   ]
  },
  {
   "cell_type": "code",
   "execution_count": 157,
   "metadata": {},
   "outputs": [
    {
     "name": "stdout",
     "output_type": "stream",
     "text": [
      "0       [„, potrivit, gran, compania, intenționează, mute, producția, rusia, deși, acolo, crește, compan...\n",
      "1       [technopolis, intenționează, dezvolte, etape, suprafață, puțin, metri, pătrați, găzdui, companii...\n",
      "2       [„, compania, internațională, industria, electronică, elcoteq, concediat, zeci, angajați, instal...\n",
      "3       [odată, fabrică, producție, compania, șiar, crește, capacitatea, satisface, creșterea, preconiza...\n",
      "4       [conform, strategiei, actualizate, companiei, anii, basware, vizează, creștere, termen, lung, vâ...\n",
      "                                                       ...                                                 \n",
      "4841    [london, marketwatch, prețurile, acțiunilor, încheiat, luni, londra, întrucât, revenirea, acțiun...\n",
      "4842    [vânzările, bere, rinkuskiai, scăzut, milioane, litri, timp, vânzările, bere, kauno, alus, cresc...\n",
      "4843    [„, profitul, operațional, scăzut, milioane, eur, milioane, eur, incluzând, câștig, vânzări, nav...\n",
      "4844    [„, vânzările, nete, segmentului, hârtie, scăzut, milioane, eur, trimestru, anului, milioane, eu...\n",
      "4845               [„, vânzările, finlanda, scăzut, ianuarie, timp, vânzările, afara, finlandei, scăzut, ”]\n",
      "Name: token, Length: 4846, dtype: object\n"
     ]
    }
   ],
   "source": [
    "from nltk.corpus import stopwords\n",
    "\", \".join(stopwords.words('romanian'))\n",
    "STOPWORDS = set(stopwords.words('romanian'))\n",
    "nltk_tokenizer = nltk.WordPunctTokenizer().tokenize\n",
    "from nltk import word_tokenize\n",
    "\n",
    "def remove_stopwords(text):\n",
    "    \"\"\"custom function to remove the stopwords\"\"\"\n",
    "    return \" \".join([word for word in str(text).split() if word not in STOPWORDS])\n",
    "\n",
    "tweet_df[\"text_wo_stop\"] = tweet_df[\"comentariu\"].apply(lambda text: remove_stopwords(text))\n",
    "tweet_df.head()\n",
    "\n",
    "tweet_df[\"token\"] = tweet_df[\"text_wo_stop\"].apply(lambda text: word_tokenize(text))\n",
    "print(tweet_df[\"token\"])  "
   ]
  },
  {
   "cell_type": "code",
   "execution_count": 158,
   "metadata": {},
   "outputs": [
    {
     "data": {
      "text/html": [
       "<div>\n",
       "<style scoped>\n",
       "    .dataframe tbody tr th:only-of-type {\n",
       "        vertical-align: middle;\n",
       "    }\n",
       "\n",
       "    .dataframe tbody tr th {\n",
       "        vertical-align: top;\n",
       "    }\n",
       "\n",
       "    .dataframe thead th {\n",
       "        text-align: right;\n",
       "    }\n",
       "</style>\n",
       "<table border=\"1\" class=\"dataframe\">\n",
       "  <thead>\n",
       "    <tr style=\"text-align: right;\">\n",
       "      <th></th>\n",
       "      <th>categorie</th>\n",
       "      <th>comentariu</th>\n",
       "      <th>text_wo_stop</th>\n",
       "      <th>token</th>\n",
       "    </tr>\n",
       "  </thead>\n",
       "  <tbody>\n",
       "    <tr>\n",
       "      <td>0</td>\n",
       "      <td>neutru</td>\n",
       "      <td>„potrivit lui gran compania nu intenționează să mute toată producția în rusia deși acolo crește...</td>\n",
       "      <td>„potrivit gran compania intenționează mute producția rusia deși acolo crește compania”</td>\n",
       "      <td>[„, potrivit, gran, compania, intenționează, mute, producția, rusia, deși, acolo, crește, compan...</td>\n",
       "    </tr>\n",
       "    <tr>\n",
       "      <td>1</td>\n",
       "      <td>neutru</td>\n",
       "      <td>technopolis intenționează să dezvolte în etape o suprafață de cel puțin  de metri pătrați pentr...</td>\n",
       "      <td>technopolis intenționează dezvolte etape suprafață puțin metri pătrați găzdui companii lucrează ...</td>\n",
       "      <td>[technopolis, intenționează, dezvolte, etape, suprafață, puțin, metri, pătrați, găzdui, companii...</td>\n",
       "    </tr>\n",
       "    <tr>\n",
       "      <td>2</td>\n",
       "      <td>negativ</td>\n",
       "      <td>„compania internațională din industria electronică elcoteq a concediat zeci de angajați din ins...</td>\n",
       "      <td>„compania internațională industria electronică elcoteq concediat zeci angajați instalația tallinn</td>\n",
       "      <td>[„, compania, internațională, industria, electronică, elcoteq, concediat, zeci, angajați, instal...</td>\n",
       "    </tr>\n",
       "    <tr>\n",
       "      <td>3</td>\n",
       "      <td>pozitiv</td>\n",
       "      <td>odată cu noua fabrică de producție compania șiar crește capacitatea de a satisface creșterea pr...</td>\n",
       "      <td>odată fabrică producție compania șiar crește capacitatea satisface creșterea preconizată cererii...</td>\n",
       "      <td>[odată, fabrică, producție, compania, șiar, crește, capacitatea, satisface, creșterea, preconiza...</td>\n",
       "    </tr>\n",
       "    <tr>\n",
       "      <td>4</td>\n",
       "      <td>pozitiv</td>\n",
       "      <td>conform strategiei actualizate a companiei pentru anii  basware vizează o creștere pe termen lu...</td>\n",
       "      <td>conform strategiei actualizate companiei anii basware vizează creștere termen lung vânzărilor ne...</td>\n",
       "      <td>[conform, strategiei, actualizate, companiei, anii, basware, vizează, creștere, termen, lung, vâ...</td>\n",
       "    </tr>\n",
       "    <tr>\n",
       "      <td>5</td>\n",
       "      <td>pozitiv</td>\n",
       "      <td>finanțarea creșterii aspocomp aspocomp își urmărește în mod agresiv strategia de creștere conce...</td>\n",
       "      <td>finanțarea creșterii aspocomp aspocomp își urmărește agresiv strategia creștere concentrânduse p...</td>\n",
       "      <td>[finanțarea, creșterii, aspocomp, aspocomp, își, urmărește, agresiv, strategia, creștere, concen...</td>\n",
       "    </tr>\n",
       "    <tr>\n",
       "      <td>6</td>\n",
       "      <td>pozitiv</td>\n",
       "      <td>„pentru ultimul trimestru al anului  vânzările nete ale componentei sau dublat la  milioane eur...</td>\n",
       "      <td>„pentru ultimul trimestru anului vânzările nete componentei dublat milioane eur milioane eur ace...</td>\n",
       "      <td>[„, pentru, ultimul, trimestru, anului, vânzările, nete, componentei, dublat, milioane, eur, mil...</td>\n",
       "    </tr>\n",
       "    <tr>\n",
       "      <td>7</td>\n",
       "      <td>pozitiv</td>\n",
       "      <td>„în al treilea trimestru al anului  vânzările nete au crescut cu  până la  milioane eur iar pro...</td>\n",
       "      <td>„în trimestru anului vânzările nete crescut milioane eur profitul operațional milioane eur”</td>\n",
       "      <td>[„, în, trimestru, anului, vânzările, nete, crescut, milioane, eur, profitul, operațional, milio...</td>\n",
       "    </tr>\n",
       "    <tr>\n",
       "      <td>8</td>\n",
       "      <td>pozitiv</td>\n",
       "      <td>profitul operațional a crescut la  milioane eur de la  milioane eur în perioada corespunzătoare...</td>\n",
       "      <td>profitul operațional crescut milioane eur milioane eur perioada corespunzătoare reprezentând vân...</td>\n",
       "      <td>[profitul, operațional, crescut, milioane, eur, milioane, eur, perioada, corespunzătoare, reprez...</td>\n",
       "    </tr>\n",
       "    <tr>\n",
       "      <td>9</td>\n",
       "      <td>pozitiv</td>\n",
       "      <td>profitul operațional a totalizat  milioane eur în creștere față de  milioane eur în  reprezentâ...</td>\n",
       "      <td>profitul operațional totalizat milioane eur creștere față milioane eur reprezentând vânzările nete</td>\n",
       "      <td>[profitul, operațional, totalizat, milioane, eur, creștere, față, milioane, eur, reprezentând, v...</td>\n",
       "    </tr>\n",
       "    <tr>\n",
       "      <td>10</td>\n",
       "      <td>pozitiv</td>\n",
       "      <td>teliasonera tlsn a declarat că oferta este în concordanță cu strategia sa de ași spori calitate...</td>\n",
       "      <td>teliasonera tlsn declarat oferta concordanță strategia ași spori calitatea proprietar deținerilo...</td>\n",
       "      <td>[teliasonera, tlsn, declarat, oferta, concordanță, strategia, ași, spori, calitatea, proprietar,...</td>\n",
       "    </tr>\n",
       "    <tr>\n",
       "      <td>11</td>\n",
       "      <td>pozitiv</td>\n",
       "      <td>„stora enso norske skog mreal upmkymmene credit suisse first boston cfsb a crescut valoarea jus...</td>\n",
       "      <td>„stora enso norske skog mreal upmkymmene credit suisse first boston cfsb crescut valoarea justă ...</td>\n",
       "      <td>[„, stora, enso, norske, skog, mreal, upmkymmene, credit, suisse, first, boston, cfsb, crescut, ...</td>\n",
       "    </tr>\n",
       "    <tr>\n",
       "      <td>12</td>\n",
       "      <td>pozitiv</td>\n",
       "      <td>un acord de cumpărare pentru  tone de benzină cu livrare la terminalul hamina finlanda a fost s...</td>\n",
       "      <td>acord cumpărare tone benzină livrare terminalul hamina finlanda semnat neste oil oyj indicele me...</td>\n",
       "      <td>[acord, cumpărare, tone, benzină, livrare, terminalul, hamina, finlanda, semnat, neste, oil, oyj...</td>\n",
       "    </tr>\n",
       "    <tr>\n",
       "      <td>13</td>\n",
       "      <td>pozitiv</td>\n",
       "      <td>finnish talentum raportează că profitul său operațional a crescut la  milioane eur în  de la  m...</td>\n",
       "      <td>finnish talentum raportează profitul operațional crescut milioane eur milioane eur vânzările net...</td>\n",
       "      <td>[finnish, talentum, raportează, profitul, operațional, crescut, milioane, eur, milioane, eur, vâ...</td>\n",
       "    </tr>\n",
       "    <tr>\n",
       "      <td>14</td>\n",
       "      <td>pozitiv</td>\n",
       "      <td>„vânzările lanțului de vânzare cu amănuntul de îmbrăcăminte sepp  æl  æ au crescut cu  la  mili...</td>\n",
       "      <td>„vânzările lanțului vânzare amănuntul îmbrăcăminte sepp æl æ crescut milioane eur profitul opera...</td>\n",
       "      <td>[„, vânzările, lanțului, vânzare, amănuntul, îmbrăcăminte, sepp, æl, æ, crescut, milioane, eur, ...</td>\n",
       "    </tr>\n",
       "    <tr>\n",
       "      <td>15</td>\n",
       "      <td>pozitiv</td>\n",
       "      <td>„vânzările nete consolidate au crescut cu  pentru a ajunge la  milioane eur în timp ce profitul...</td>\n",
       "      <td>„vânzările nete consolidate crescut ajunge milioane eur timp profitul operațional ridicat milioa...</td>\n",
       "      <td>[„, vânzările, nete, consolidate, crescut, ajunge, milioane, eur, timp, profitul, operațional, r...</td>\n",
       "    </tr>\n",
       "    <tr>\n",
       "      <td>16</td>\n",
       "      <td>pozitiv</td>\n",
       "      <td>divizia de turnătorii a raportat că vânzările sale au crescut cu  la  milioane eur de la  ​​mil...</td>\n",
       "      <td>divizia turnătorii raportat vânzările crescut milioane eur ​​milioane eur perioada corespunzătoa...</td>\n",
       "      <td>[divizia, turnătorii, raportat, vânzările, crescut, milioane, eur, ​​milioane, eur, perioada, co...</td>\n",
       "    </tr>\n",
       "    <tr>\n",
       "      <td>17</td>\n",
       "      <td>pozitiv</td>\n",
       "      <td>helsinki afx  acțiunile sau închis mai mult conduse de nokia după ce a anunțat planurile de a f...</td>\n",
       "      <td>helsinki afx acțiunile închis conduse nokia anunțat planurile echipă sanyo produce telefoane g ș...</td>\n",
       "      <td>[helsinki, afx, acțiunile, închis, conduse, nokia, anunțat, planurile, echipă, sanyo, produce, t...</td>\n",
       "    </tr>\n",
       "    <tr>\n",
       "      <td>18</td>\n",
       "      <td>pozitiv</td>\n",
       "      <td>incap contract manufacturing services pvt ltd o filială a incap corporation din finlanda intenț...</td>\n",
       "      <td>incap contract manufacturing services pvt ltd filială incap corporation finlanda intenționează î...</td>\n",
       "      <td>[incap, contract, manufacturing, services, pvt, ltd, filială, incap, corporation, finlanda, inte...</td>\n",
       "    </tr>\n",
       "    <tr>\n",
       "      <td>19</td>\n",
       "      <td>pozitiv</td>\n",
       "      <td>„consiliul său de administrație va propune un dividend de  eur pe acțiune pentru  în creștere f...</td>\n",
       "      <td>„consiliul administrație propune dividend eur acțiune creștere față eur acțiune plătită ”</td>\n",
       "      <td>[„, consiliul, administrație, propune, dividend, eur, acțiune, creștere, față, eur, acțiune, plă...</td>\n",
       "    </tr>\n",
       "  </tbody>\n",
       "</table>\n",
       "</div>"
      ],
      "text/plain": [
       "   categorie  \\\n",
       "0     neutru   \n",
       "1     neutru   \n",
       "2    negativ   \n",
       "3    pozitiv   \n",
       "4    pozitiv   \n",
       "5    pozitiv   \n",
       "6    pozitiv   \n",
       "7    pozitiv   \n",
       "8    pozitiv   \n",
       "9    pozitiv   \n",
       "10   pozitiv   \n",
       "11   pozitiv   \n",
       "12   pozitiv   \n",
       "13   pozitiv   \n",
       "14   pozitiv   \n",
       "15   pozitiv   \n",
       "16   pozitiv   \n",
       "17   pozitiv   \n",
       "18   pozitiv   \n",
       "19   pozitiv   \n",
       "\n",
       "                                                                                             comentariu  \\\n",
       "0    „potrivit lui gran compania nu intenționează să mute toată producția în rusia deși acolo crește...   \n",
       "1    technopolis intenționează să dezvolte în etape o suprafață de cel puțin  de metri pătrați pentr...   \n",
       "2    „compania internațională din industria electronică elcoteq a concediat zeci de angajați din ins...   \n",
       "3    odată cu noua fabrică de producție compania șiar crește capacitatea de a satisface creșterea pr...   \n",
       "4    conform strategiei actualizate a companiei pentru anii  basware vizează o creștere pe termen lu...   \n",
       "5    finanțarea creșterii aspocomp aspocomp își urmărește în mod agresiv strategia de creștere conce...   \n",
       "6    „pentru ultimul trimestru al anului  vânzările nete ale componentei sau dublat la  milioane eur...   \n",
       "7    „în al treilea trimestru al anului  vânzările nete au crescut cu  până la  milioane eur iar pro...   \n",
       "8    profitul operațional a crescut la  milioane eur de la  milioane eur în perioada corespunzătoare...   \n",
       "9    profitul operațional a totalizat  milioane eur în creștere față de  milioane eur în  reprezentâ...   \n",
       "10   teliasonera tlsn a declarat că oferta este în concordanță cu strategia sa de ași spori calitate...   \n",
       "11   „stora enso norske skog mreal upmkymmene credit suisse first boston cfsb a crescut valoarea jus...   \n",
       "12   un acord de cumpărare pentru  tone de benzină cu livrare la terminalul hamina finlanda a fost s...   \n",
       "13   finnish talentum raportează că profitul său operațional a crescut la  milioane eur în  de la  m...   \n",
       "14   „vânzările lanțului de vânzare cu amănuntul de îmbrăcăminte sepp  æl  æ au crescut cu  la  mili...   \n",
       "15   „vânzările nete consolidate au crescut cu  pentru a ajunge la  milioane eur în timp ce profitul...   \n",
       "16   divizia de turnătorii a raportat că vânzările sale au crescut cu  la  milioane eur de la  ​​mil...   \n",
       "17   helsinki afx  acțiunile sau închis mai mult conduse de nokia după ce a anunțat planurile de a f...   \n",
       "18   incap contract manufacturing services pvt ltd o filială a incap corporation din finlanda intenț...   \n",
       "19   „consiliul său de administrație va propune un dividend de  eur pe acțiune pentru  în creștere f...   \n",
       "\n",
       "                                                                                           text_wo_stop  \\\n",
       "0                „potrivit gran compania intenționează mute producția rusia deși acolo crește compania”   \n",
       "1   technopolis intenționează dezvolte etape suprafață puțin metri pătrați găzdui companii lucrează ...   \n",
       "2     „compania internațională industria electronică elcoteq concediat zeci angajați instalația tallinn   \n",
       "3   odată fabrică producție compania șiar crește capacitatea satisface creșterea preconizată cererii...   \n",
       "4   conform strategiei actualizate companiei anii basware vizează creștere termen lung vânzărilor ne...   \n",
       "5   finanțarea creșterii aspocomp aspocomp își urmărește agresiv strategia creștere concentrânduse p...   \n",
       "6   „pentru ultimul trimestru anului vânzările nete componentei dublat milioane eur milioane eur ace...   \n",
       "7           „în trimestru anului vânzările nete crescut milioane eur profitul operațional milioane eur”   \n",
       "8   profitul operațional crescut milioane eur milioane eur perioada corespunzătoare reprezentând vân...   \n",
       "9    profitul operațional totalizat milioane eur creștere față milioane eur reprezentând vânzările nete   \n",
       "10  teliasonera tlsn declarat oferta concordanță strategia ași spori calitatea proprietar deținerilo...   \n",
       "11  „stora enso norske skog mreal upmkymmene credit suisse first boston cfsb crescut valoarea justă ...   \n",
       "12  acord cumpărare tone benzină livrare terminalul hamina finlanda semnat neste oil oyj indicele me...   \n",
       "13  finnish talentum raportează profitul operațional crescut milioane eur milioane eur vânzările net...   \n",
       "14  „vânzările lanțului vânzare amănuntul îmbrăcăminte sepp æl æ crescut milioane eur profitul opera...   \n",
       "15  „vânzările nete consolidate crescut ajunge milioane eur timp profitul operațional ridicat milioa...   \n",
       "16  divizia turnătorii raportat vânzările crescut milioane eur ​​milioane eur perioada corespunzătoa...   \n",
       "17  helsinki afx acțiunile închis conduse nokia anunțat planurile echipă sanyo produce telefoane g ș...   \n",
       "18  incap contract manufacturing services pvt ltd filială incap corporation finlanda intenționează î...   \n",
       "19            „consiliul administrație propune dividend eur acțiune creștere față eur acțiune plătită ”   \n",
       "\n",
       "                                                                                                  token  \n",
       "0   [„, potrivit, gran, compania, intenționează, mute, producția, rusia, deși, acolo, crește, compan...  \n",
       "1   [technopolis, intenționează, dezvolte, etape, suprafață, puțin, metri, pătrați, găzdui, companii...  \n",
       "2   [„, compania, internațională, industria, electronică, elcoteq, concediat, zeci, angajați, instal...  \n",
       "3   [odată, fabrică, producție, compania, șiar, crește, capacitatea, satisface, creșterea, preconiza...  \n",
       "4   [conform, strategiei, actualizate, companiei, anii, basware, vizează, creștere, termen, lung, vâ...  \n",
       "5   [finanțarea, creșterii, aspocomp, aspocomp, își, urmărește, agresiv, strategia, creștere, concen...  \n",
       "6   [„, pentru, ultimul, trimestru, anului, vânzările, nete, componentei, dublat, milioane, eur, mil...  \n",
       "7   [„, în, trimestru, anului, vânzările, nete, crescut, milioane, eur, profitul, operațional, milio...  \n",
       "8   [profitul, operațional, crescut, milioane, eur, milioane, eur, perioada, corespunzătoare, reprez...  \n",
       "9   [profitul, operațional, totalizat, milioane, eur, creștere, față, milioane, eur, reprezentând, v...  \n",
       "10  [teliasonera, tlsn, declarat, oferta, concordanță, strategia, ași, spori, calitatea, proprietar,...  \n",
       "11  [„, stora, enso, norske, skog, mreal, upmkymmene, credit, suisse, first, boston, cfsb, crescut, ...  \n",
       "12  [acord, cumpărare, tone, benzină, livrare, terminalul, hamina, finlanda, semnat, neste, oil, oyj...  \n",
       "13  [finnish, talentum, raportează, profitul, operațional, crescut, milioane, eur, milioane, eur, vâ...  \n",
       "14  [„, vânzările, lanțului, vânzare, amănuntul, îmbrăcăminte, sepp, æl, æ, crescut, milioane, eur, ...  \n",
       "15  [„, vânzările, nete, consolidate, crescut, ajunge, milioane, eur, timp, profitul, operațional, r...  \n",
       "16  [divizia, turnătorii, raportat, vânzările, crescut, milioane, eur, ​​milioane, eur, perioada, co...  \n",
       "17  [helsinki, afx, acțiunile, închis, conduse, nokia, anunțat, planurile, echipă, sanyo, produce, t...  \n",
       "18  [incap, contract, manufacturing, services, pvt, ltd, filială, incap, corporation, finlanda, inte...  \n",
       "19  [„, consiliul, administrație, propune, dividend, eur, acțiune, creștere, față, eur, acțiune, plă...  "
      ]
     },
     "execution_count": 158,
     "metadata": {},
     "output_type": "execute_result"
    }
   ],
   "source": [
    "#remove \n",
    "%matplotlib inline\n",
    "pd.set_option('display.max_colwidth', 100)\n",
    "\n",
    "tweet_df.head(20)"
   ]
  },
  {
   "cell_type": "markdown",
   "metadata": {},
   "source": [
    "3. OPERATIUNEA DE STEMMING\n"
   ]
  },
  {
   "cell_type": "code",
   "execution_count": 160,
   "metadata": {},
   "outputs": [
    {
     "data": {
      "text/html": [
       "<div>\n",
       "<style scoped>\n",
       "    .dataframe tbody tr th:only-of-type {\n",
       "        vertical-align: middle;\n",
       "    }\n",
       "\n",
       "    .dataframe tbody tr th {\n",
       "        vertical-align: top;\n",
       "    }\n",
       "\n",
       "    .dataframe thead th {\n",
       "        text-align: right;\n",
       "    }\n",
       "</style>\n",
       "<table border=\"1\" class=\"dataframe\">\n",
       "  <thead>\n",
       "    <tr style=\"text-align: right;\">\n",
       "      <th></th>\n",
       "      <th>categorie</th>\n",
       "      <th>comentariu</th>\n",
       "      <th>text_wo_stop</th>\n",
       "      <th>token</th>\n",
       "      <th>text_stemmed</th>\n",
       "    </tr>\n",
       "  </thead>\n",
       "  <tbody>\n",
       "    <tr>\n",
       "      <td>0</td>\n",
       "      <td>neutru</td>\n",
       "      <td>„potrivit lui gran compania nu intenționează să mute toată producția în rusia deși acolo crește...</td>\n",
       "      <td>„potrivit gran compania intenționează mute producția rusia deși acolo crește compania”</td>\n",
       "      <td>[„, potrivit, gran, compania, intenționează, mute, producția, rusia, deși, acolo, crește, compan...</td>\n",
       "      <td>„ potrivit gran compania intenționează mute producția rusia deși acolo creșt compania ”</td>\n",
       "    </tr>\n",
       "    <tr>\n",
       "      <td>1</td>\n",
       "      <td>neutru</td>\n",
       "      <td>technopolis intenționează să dezvolte în etape o suprafață de cel puțin  de metri pătrați pentr...</td>\n",
       "      <td>technopolis intenționează dezvolte etape suprafață puțin metri pătrați găzdui companii lucrează ...</td>\n",
       "      <td>[technopolis, intenționează, dezvolte, etape, suprafață, puțin, metri, pătrați, găzdui, companii...</td>\n",
       "      <td>technopoli intenționează dezvolt etap suprafață puțin metri pătrați găzdui companii lucrează teh...</td>\n",
       "    </tr>\n",
       "    <tr>\n",
       "      <td>2</td>\n",
       "      <td>negativ</td>\n",
       "      <td>„compania internațională din industria electronică elcoteq a concediat zeci de angajați din ins...</td>\n",
       "      <td>„compania internațională industria electronică elcoteq concediat zeci angajați instalația tallinn</td>\n",
       "      <td>[„, compania, internațională, industria, electronică, elcoteq, concediat, zeci, angajați, instal...</td>\n",
       "      <td>„ compania internațională industria electronică elcoteq concediat zeci angajați instalația tallinn</td>\n",
       "    </tr>\n",
       "    <tr>\n",
       "      <td>3</td>\n",
       "      <td>pozitiv</td>\n",
       "      <td>odată cu noua fabrică de producție compania șiar crește capacitatea de a satisface creșterea pr...</td>\n",
       "      <td>odată fabrică producție compania șiar crește capacitatea satisface creșterea preconizată cererii...</td>\n",
       "      <td>[odată, fabrică, producție, compania, șiar, crește, capacitatea, satisface, creșterea, preconiza...</td>\n",
       "      <td>odată fabrică producți compania șiar creșt capacitatea satisfac creșterea preconizată cererii și...</td>\n",
       "    </tr>\n",
       "    <tr>\n",
       "      <td>4</td>\n",
       "      <td>pozitiv</td>\n",
       "      <td>conform strategiei actualizate a companiei pentru anii  basware vizează o creștere pe termen lu...</td>\n",
       "      <td>conform strategiei actualizate companiei anii basware vizează creștere termen lung vânzărilor ne...</td>\n",
       "      <td>[conform, strategiei, actualizate, companiei, anii, basware, vizează, creștere, termen, lung, vâ...</td>\n",
       "      <td>conform strategiei actualiz companiei anii baswar vizează creșter termen lung vânzărilor nete in...</td>\n",
       "    </tr>\n",
       "  </tbody>\n",
       "</table>\n",
       "</div>"
      ],
      "text/plain": [
       "  categorie  \\\n",
       "0    neutru   \n",
       "1    neutru   \n",
       "2   negativ   \n",
       "3   pozitiv   \n",
       "4   pozitiv   \n",
       "\n",
       "                                                                                            comentariu  \\\n",
       "0   „potrivit lui gran compania nu intenționează să mute toată producția în rusia deși acolo crește...   \n",
       "1   technopolis intenționează să dezvolte în etape o suprafață de cel puțin  de metri pătrați pentr...   \n",
       "2   „compania internațională din industria electronică elcoteq a concediat zeci de angajați din ins...   \n",
       "3   odată cu noua fabrică de producție compania șiar crește capacitatea de a satisface creșterea pr...   \n",
       "4   conform strategiei actualizate a companiei pentru anii  basware vizează o creștere pe termen lu...   \n",
       "\n",
       "                                                                                          text_wo_stop  \\\n",
       "0               „potrivit gran compania intenționează mute producția rusia deși acolo crește compania”   \n",
       "1  technopolis intenționează dezvolte etape suprafață puțin metri pătrați găzdui companii lucrează ...   \n",
       "2    „compania internațională industria electronică elcoteq concediat zeci angajați instalația tallinn   \n",
       "3  odată fabrică producție compania șiar crește capacitatea satisface creșterea preconizată cererii...   \n",
       "4  conform strategiei actualizate companiei anii basware vizează creștere termen lung vânzărilor ne...   \n",
       "\n",
       "                                                                                                 token  \\\n",
       "0  [„, potrivit, gran, compania, intenționează, mute, producția, rusia, deși, acolo, crește, compan...   \n",
       "1  [technopolis, intenționează, dezvolte, etape, suprafață, puțin, metri, pătrați, găzdui, companii...   \n",
       "2  [„, compania, internațională, industria, electronică, elcoteq, concediat, zeci, angajați, instal...   \n",
       "3  [odată, fabrică, producție, compania, șiar, crește, capacitatea, satisface, creșterea, preconiza...   \n",
       "4  [conform, strategiei, actualizate, companiei, anii, basware, vizează, creștere, termen, lung, vâ...   \n",
       "\n",
       "                                                                                          text_stemmed  \n",
       "0              „ potrivit gran compania intenționează mute producția rusia deși acolo creșt compania ”  \n",
       "1  technopoli intenționează dezvolt etap suprafață puțin metri pătrați găzdui companii lucrează teh...  \n",
       "2   „ compania internațională industria electronică elcoteq concediat zeci angajați instalația tallinn  \n",
       "3  odată fabrică producți compania șiar creșt capacitatea satisfac creșterea preconizată cererii și...  \n",
       "4  conform strategiei actualiz companiei anii baswar vizează creșter termen lung vânzărilor nete in...  "
      ]
     },
     "execution_count": 160,
     "metadata": {},
     "output_type": "execute_result"
    }
   ],
   "source": [
    "\n",
    "from nltk.stem.porter import PorterStemmer\n",
    "stemmer = PorterStemmer()\n",
    "def stem_words(text):\n",
    "    return \" \".join([stemmer.stem(word) for word in text])\n",
    "tweet_df[\"text_stemmed\"] = tweet_df[\"token\"].apply(lambda text: stem_words(text))\n",
    "tweet_df.head()\n",
    "\n"
   ]
  },
  {
   "cell_type": "markdown",
   "metadata": {},
   "source": [
    "4. ELIMINAREA CELOR MAI FRECVENTE CUVINTE"
   ]
  },
  {
   "cell_type": "code",
   "execution_count": 161,
   "metadata": {},
   "outputs": [
    {
     "data": {
      "text/plain": [
       "[('și', 2627),\n",
       " ('„', 1711),\n",
       " ('”', 1492),\n",
       " ('milioan', 1353),\n",
       " ('eur', 1324),\n",
       " ('compania', 488),\n",
       " ('anului', 397),\n",
       " ('declarat', 347),\n",
       " ('euro', 329),\n",
       " ('crescut', 301),\n",
       " ('profitul', 291),\n",
       " ('vânzările', 290),\n",
       " ('finlandez', 290),\n",
       " ('finlanda', 282),\n",
       " ('aproximativ', 272),\n",
       " ('nete', 259),\n",
       " ('mln', 254),\n",
       " ('oyj', 240),\n",
       " ('companiei', 238),\n",
       " ('trimestru', 228)]"
      ]
     },
     "execution_count": 161,
     "metadata": {},
     "output_type": "execute_result"
    }
   ],
   "source": [
    "\n",
    "from collections import Counter\n",
    "cnt = Counter()\n",
    "for text in tweet_df[\"text_stemmed\"].values:\n",
    "    for word in text.split():\n",
    "        cnt[word] += 1\n",
    "        \n",
    "cnt.most_common(20)"
   ]
  },
  {
   "cell_type": "code",
   "execution_count": 162,
   "metadata": {},
   "outputs": [
    {
     "data": {
      "text/html": [
       "<div>\n",
       "<style scoped>\n",
       "    .dataframe tbody tr th:only-of-type {\n",
       "        vertical-align: middle;\n",
       "    }\n",
       "\n",
       "    .dataframe tbody tr th {\n",
       "        vertical-align: top;\n",
       "    }\n",
       "\n",
       "    .dataframe thead th {\n",
       "        text-align: right;\n",
       "    }\n",
       "</style>\n",
       "<table border=\"1\" class=\"dataframe\">\n",
       "  <thead>\n",
       "    <tr style=\"text-align: right;\">\n",
       "      <th></th>\n",
       "      <th>categorie</th>\n",
       "      <th>comentariu</th>\n",
       "      <th>text_wo_stop</th>\n",
       "      <th>token</th>\n",
       "      <th>text_stemmed</th>\n",
       "      <th>text__stopfreq</th>\n",
       "    </tr>\n",
       "  </thead>\n",
       "  <tbody>\n",
       "    <tr>\n",
       "      <td>0</td>\n",
       "      <td>neutru</td>\n",
       "      <td>„potrivit lui gran compania nu intenționează să mute toată producția în rusia deși acolo crește...</td>\n",
       "      <td>„potrivit gran compania intenționează mute producția rusia deși acolo crește compania”</td>\n",
       "      <td>[„, potrivit, gran, compania, intenționează, mute, producția, rusia, deși, acolo, crește, compan...</td>\n",
       "      <td>„ potrivit gran compania intenționează mute producția rusia deși acolo creșt compania ”</td>\n",
       "      <td>potrivit gran intenționează mute producția rusia deși acolo creșt</td>\n",
       "    </tr>\n",
       "    <tr>\n",
       "      <td>1</td>\n",
       "      <td>neutru</td>\n",
       "      <td>technopolis intenționează să dezvolte în etape o suprafață de cel puțin  de metri pătrați pentr...</td>\n",
       "      <td>technopolis intenționează dezvolte etape suprafață puțin metri pătrați găzdui companii lucrează ...</td>\n",
       "      <td>[technopolis, intenționează, dezvolte, etape, suprafață, puțin, metri, pătrați, găzdui, companii...</td>\n",
       "      <td>technopoli intenționează dezvolt etap suprafață puțin metri pătrați găzdui companii lucrează teh...</td>\n",
       "      <td>technopoli intenționează dezvolt etap suprafață puțin metri pătrați găzdui companii lucrează teh...</td>\n",
       "    </tr>\n",
       "    <tr>\n",
       "      <td>2</td>\n",
       "      <td>negativ</td>\n",
       "      <td>„compania internațională din industria electronică elcoteq a concediat zeci de angajați din ins...</td>\n",
       "      <td>„compania internațională industria electronică elcoteq concediat zeci angajați instalația tallinn</td>\n",
       "      <td>[„, compania, internațională, industria, electronică, elcoteq, concediat, zeci, angajați, instal...</td>\n",
       "      <td>„ compania internațională industria electronică elcoteq concediat zeci angajați instalația tallinn</td>\n",
       "      <td>internațională industria electronică elcoteq concediat zeci angajați instalația tallinn</td>\n",
       "    </tr>\n",
       "    <tr>\n",
       "      <td>3</td>\n",
       "      <td>pozitiv</td>\n",
       "      <td>odată cu noua fabrică de producție compania șiar crește capacitatea de a satisface creșterea pr...</td>\n",
       "      <td>odată fabrică producție compania șiar crește capacitatea satisface creșterea preconizată cererii...</td>\n",
       "      <td>[odată, fabrică, producție, compania, șiar, crește, capacitatea, satisface, creșterea, preconiza...</td>\n",
       "      <td>odată fabrică producți compania șiar creșt capacitatea satisfac creșterea preconizată cererii și...</td>\n",
       "      <td>odată fabrică producți șiar creșt capacitatea satisfac creșterea preconizată cererii îmbunătăți ...</td>\n",
       "    </tr>\n",
       "    <tr>\n",
       "      <td>4</td>\n",
       "      <td>pozitiv</td>\n",
       "      <td>conform strategiei actualizate a companiei pentru anii  basware vizează o creștere pe termen lu...</td>\n",
       "      <td>conform strategiei actualizate companiei anii basware vizează creștere termen lung vânzărilor ne...</td>\n",
       "      <td>[conform, strategiei, actualizate, companiei, anii, basware, vizează, creștere, termen, lung, vâ...</td>\n",
       "      <td>conform strategiei actualiz companiei anii baswar vizează creșter termen lung vânzărilor nete in...</td>\n",
       "      <td>conform strategiei actualiz companiei anii baswar vizează creșter termen lung vânzărilor nete in...</td>\n",
       "    </tr>\n",
       "  </tbody>\n",
       "</table>\n",
       "</div>"
      ],
      "text/plain": [
       "  categorie  \\\n",
       "0    neutru   \n",
       "1    neutru   \n",
       "2   negativ   \n",
       "3   pozitiv   \n",
       "4   pozitiv   \n",
       "\n",
       "                                                                                            comentariu  \\\n",
       "0   „potrivit lui gran compania nu intenționează să mute toată producția în rusia deși acolo crește...   \n",
       "1   technopolis intenționează să dezvolte în etape o suprafață de cel puțin  de metri pătrați pentr...   \n",
       "2   „compania internațională din industria electronică elcoteq a concediat zeci de angajați din ins...   \n",
       "3   odată cu noua fabrică de producție compania șiar crește capacitatea de a satisface creșterea pr...   \n",
       "4   conform strategiei actualizate a companiei pentru anii  basware vizează o creștere pe termen lu...   \n",
       "\n",
       "                                                                                          text_wo_stop  \\\n",
       "0               „potrivit gran compania intenționează mute producția rusia deși acolo crește compania”   \n",
       "1  technopolis intenționează dezvolte etape suprafață puțin metri pătrați găzdui companii lucrează ...   \n",
       "2    „compania internațională industria electronică elcoteq concediat zeci angajați instalația tallinn   \n",
       "3  odată fabrică producție compania șiar crește capacitatea satisface creșterea preconizată cererii...   \n",
       "4  conform strategiei actualizate companiei anii basware vizează creștere termen lung vânzărilor ne...   \n",
       "\n",
       "                                                                                                 token  \\\n",
       "0  [„, potrivit, gran, compania, intenționează, mute, producția, rusia, deși, acolo, crește, compan...   \n",
       "1  [technopolis, intenționează, dezvolte, etape, suprafață, puțin, metri, pătrați, găzdui, companii...   \n",
       "2  [„, compania, internațională, industria, electronică, elcoteq, concediat, zeci, angajați, instal...   \n",
       "3  [odată, fabrică, producție, compania, șiar, crește, capacitatea, satisface, creșterea, preconiza...   \n",
       "4  [conform, strategiei, actualizate, companiei, anii, basware, vizează, creștere, termen, lung, vâ...   \n",
       "\n",
       "                                                                                          text_stemmed  \\\n",
       "0              „ potrivit gran compania intenționează mute producția rusia deși acolo creșt compania ”   \n",
       "1  technopoli intenționează dezvolt etap suprafață puțin metri pătrați găzdui companii lucrează teh...   \n",
       "2   „ compania internațională industria electronică elcoteq concediat zeci angajați instalația tallinn   \n",
       "3  odată fabrică producți compania șiar creșt capacitatea satisfac creșterea preconizată cererii și...   \n",
       "4  conform strategiei actualiz companiei anii baswar vizează creșter termen lung vânzărilor nete in...   \n",
       "\n",
       "                                                                                        text__stopfreq  \n",
       "0                                    potrivit gran intenționează mute producția rusia deși acolo creșt  \n",
       "1  technopoli intenționează dezvolt etap suprafață puțin metri pătrați găzdui companii lucrează teh...  \n",
       "2              internațională industria electronică elcoteq concediat zeci angajați instalația tallinn  \n",
       "3  odată fabrică producți șiar creșt capacitatea satisfac creșterea preconizată cererii îmbunătăți ...  \n",
       "4  conform strategiei actualiz companiei anii baswar vizează creșter termen lung vânzărilor nete in...  "
      ]
     },
     "execution_count": 162,
     "metadata": {},
     "output_type": "execute_result"
    }
   ],
   "source": [
    "FREQWORDS = set([w for (w, wc) in cnt.most_common(10)])\n",
    "def remove_freqwords(text):\n",
    "    \"\"\"custom function to remove the frequent words\"\"\"\n",
    "    return \" \".join([word for word in str(text).split() if word not in FREQWORDS])\n",
    "\n",
    "tweet_df[\"text__stopfreq\"] = tweet_df[\"text_stemmed\"].apply(lambda text: remove_freqwords(text))\n",
    "tweet_df.head()"
   ]
  },
  {
   "cell_type": "markdown",
   "metadata": {},
   "source": [
    "OPERATIUNEA DE LEMNATIZARE"
   ]
  },
  {
   "cell_type": "code",
   "execution_count": 163,
   "metadata": {},
   "outputs": [
    {
     "data": {
      "text/html": [
       "<div>\n",
       "<style scoped>\n",
       "    .dataframe tbody tr th:only-of-type {\n",
       "        vertical-align: middle;\n",
       "    }\n",
       "\n",
       "    .dataframe tbody tr th {\n",
       "        vertical-align: top;\n",
       "    }\n",
       "\n",
       "    .dataframe thead th {\n",
       "        text-align: right;\n",
       "    }\n",
       "</style>\n",
       "<table border=\"1\" class=\"dataframe\">\n",
       "  <thead>\n",
       "    <tr style=\"text-align: right;\">\n",
       "      <th></th>\n",
       "      <th>categorie</th>\n",
       "      <th>comentariu</th>\n",
       "      <th>text_wo_stop</th>\n",
       "      <th>token</th>\n",
       "      <th>text_stemmed</th>\n",
       "      <th>text__stopfreq</th>\n",
       "      <th>text_lemmatized</th>\n",
       "    </tr>\n",
       "  </thead>\n",
       "  <tbody>\n",
       "    <tr>\n",
       "      <td>0</td>\n",
       "      <td>neutru</td>\n",
       "      <td>„potrivit lui gran compania nu intenționează să mute toată producția în rusia deși acolo crește...</td>\n",
       "      <td>„potrivit gran compania intenționează mute producția rusia deși acolo crește compania”</td>\n",
       "      <td>[„, potrivit, gran, compania, intenționează, mute, producția, rusia, deși, acolo, crește, compan...</td>\n",
       "      <td>„ potrivit gran compania intenționează mute producția rusia deși acolo creșt compania ”</td>\n",
       "      <td>potrivit gran intenționează mute producția rusia deși acolo creșt</td>\n",
       "      <td>potrivit gran intenționează mute producția rusia deși acolo creșt</td>\n",
       "    </tr>\n",
       "    <tr>\n",
       "      <td>1</td>\n",
       "      <td>neutru</td>\n",
       "      <td>technopolis intenționează să dezvolte în etape o suprafață de cel puțin  de metri pătrați pentr...</td>\n",
       "      <td>technopolis intenționează dezvolte etape suprafață puțin metri pătrați găzdui companii lucrează ...</td>\n",
       "      <td>[technopolis, intenționează, dezvolte, etape, suprafață, puțin, metri, pătrați, găzdui, companii...</td>\n",
       "      <td>technopoli intenționează dezvolt etap suprafață puțin metri pătrați găzdui companii lucrează teh...</td>\n",
       "      <td>technopoli intenționează dezvolt etap suprafață puțin metri pătrați găzdui companii lucrează teh...</td>\n",
       "      <td>technopoli intenționează dezvolt etap suprafață puțin metri pătrați găzdui companii lucrează teh...</td>\n",
       "    </tr>\n",
       "    <tr>\n",
       "      <td>2</td>\n",
       "      <td>negativ</td>\n",
       "      <td>„compania internațională din industria electronică elcoteq a concediat zeci de angajați din ins...</td>\n",
       "      <td>„compania internațională industria electronică elcoteq concediat zeci angajați instalația tallinn</td>\n",
       "      <td>[„, compania, internațională, industria, electronică, elcoteq, concediat, zeci, angajați, instal...</td>\n",
       "      <td>„ compania internațională industria electronică elcoteq concediat zeci angajați instalația tallinn</td>\n",
       "      <td>internațională industria electronică elcoteq concediat zeci angajați instalația tallinn</td>\n",
       "      <td>internațională industria electronică elcoteq concediat zeci angajați instalația tallinn</td>\n",
       "    </tr>\n",
       "    <tr>\n",
       "      <td>3</td>\n",
       "      <td>pozitiv</td>\n",
       "      <td>odată cu noua fabrică de producție compania șiar crește capacitatea de a satisface creșterea pr...</td>\n",
       "      <td>odată fabrică producție compania șiar crește capacitatea satisface creșterea preconizată cererii...</td>\n",
       "      <td>[odată, fabrică, producție, compania, șiar, crește, capacitatea, satisface, creșterea, preconiza...</td>\n",
       "      <td>odată fabrică producți compania șiar creșt capacitatea satisfac creșterea preconizată cererii și...</td>\n",
       "      <td>odată fabrică producți șiar creșt capacitatea satisfac creșterea preconizată cererii îmbunătăți ...</td>\n",
       "      <td>odată fabrică producți șiar creșt capacitatea satisfac creșterea preconizată cererii îmbunătăți ...</td>\n",
       "    </tr>\n",
       "    <tr>\n",
       "      <td>4</td>\n",
       "      <td>pozitiv</td>\n",
       "      <td>conform strategiei actualizate a companiei pentru anii  basware vizează o creștere pe termen lu...</td>\n",
       "      <td>conform strategiei actualizate companiei anii basware vizează creștere termen lung vânzărilor ne...</td>\n",
       "      <td>[conform, strategiei, actualizate, companiei, anii, basware, vizează, creștere, termen, lung, vâ...</td>\n",
       "      <td>conform strategiei actualiz companiei anii baswar vizează creșter termen lung vânzărilor nete in...</td>\n",
       "      <td>conform strategiei actualiz companiei anii baswar vizează creșter termen lung vânzărilor nete in...</td>\n",
       "      <td>conform strategiei actualiz companiei anii baswar vizează creșter termen lung vânzărilor nete in...</td>\n",
       "    </tr>\n",
       "  </tbody>\n",
       "</table>\n",
       "</div>"
      ],
      "text/plain": [
       "  categorie  \\\n",
       "0    neutru   \n",
       "1    neutru   \n",
       "2   negativ   \n",
       "3   pozitiv   \n",
       "4   pozitiv   \n",
       "\n",
       "                                                                                            comentariu  \\\n",
       "0   „potrivit lui gran compania nu intenționează să mute toată producția în rusia deși acolo crește...   \n",
       "1   technopolis intenționează să dezvolte în etape o suprafață de cel puțin  de metri pătrați pentr...   \n",
       "2   „compania internațională din industria electronică elcoteq a concediat zeci de angajați din ins...   \n",
       "3   odată cu noua fabrică de producție compania șiar crește capacitatea de a satisface creșterea pr...   \n",
       "4   conform strategiei actualizate a companiei pentru anii  basware vizează o creștere pe termen lu...   \n",
       "\n",
       "                                                                                          text_wo_stop  \\\n",
       "0               „potrivit gran compania intenționează mute producția rusia deși acolo crește compania”   \n",
       "1  technopolis intenționează dezvolte etape suprafață puțin metri pătrați găzdui companii lucrează ...   \n",
       "2    „compania internațională industria electronică elcoteq concediat zeci angajați instalația tallinn   \n",
       "3  odată fabrică producție compania șiar crește capacitatea satisface creșterea preconizată cererii...   \n",
       "4  conform strategiei actualizate companiei anii basware vizează creștere termen lung vânzărilor ne...   \n",
       "\n",
       "                                                                                                 token  \\\n",
       "0  [„, potrivit, gran, compania, intenționează, mute, producția, rusia, deși, acolo, crește, compan...   \n",
       "1  [technopolis, intenționează, dezvolte, etape, suprafață, puțin, metri, pătrați, găzdui, companii...   \n",
       "2  [„, compania, internațională, industria, electronică, elcoteq, concediat, zeci, angajați, instal...   \n",
       "3  [odată, fabrică, producție, compania, șiar, crește, capacitatea, satisface, creșterea, preconiza...   \n",
       "4  [conform, strategiei, actualizate, companiei, anii, basware, vizează, creștere, termen, lung, vâ...   \n",
       "\n",
       "                                                                                          text_stemmed  \\\n",
       "0              „ potrivit gran compania intenționează mute producția rusia deși acolo creșt compania ”   \n",
       "1  technopoli intenționează dezvolt etap suprafață puțin metri pătrați găzdui companii lucrează teh...   \n",
       "2   „ compania internațională industria electronică elcoteq concediat zeci angajați instalația tallinn   \n",
       "3  odată fabrică producți compania șiar creșt capacitatea satisfac creșterea preconizată cererii și...   \n",
       "4  conform strategiei actualiz companiei anii baswar vizează creșter termen lung vânzărilor nete in...   \n",
       "\n",
       "                                                                                        text__stopfreq  \\\n",
       "0                                    potrivit gran intenționează mute producția rusia deși acolo creșt   \n",
       "1  technopoli intenționează dezvolt etap suprafață puțin metri pătrați găzdui companii lucrează teh...   \n",
       "2              internațională industria electronică elcoteq concediat zeci angajați instalația tallinn   \n",
       "3  odată fabrică producți șiar creșt capacitatea satisfac creșterea preconizată cererii îmbunătăți ...   \n",
       "4  conform strategiei actualiz companiei anii baswar vizează creșter termen lung vânzărilor nete in...   \n",
       "\n",
       "                                                                                       text_lemmatized  \n",
       "0                                    potrivit gran intenționează mute producția rusia deși acolo creșt  \n",
       "1  technopoli intenționează dezvolt etap suprafață puțin metri pătrați găzdui companii lucrează teh...  \n",
       "2              internațională industria electronică elcoteq concediat zeci angajați instalația tallinn  \n",
       "3  odată fabrică producți șiar creșt capacitatea satisfac creșterea preconizată cererii îmbunătăți ...  \n",
       "4  conform strategiei actualiz companiei anii baswar vizează creșter termen lung vânzărilor nete in...  "
      ]
     },
     "execution_count": 163,
     "metadata": {},
     "output_type": "execute_result"
    }
   ],
   "source": [
    "\n",
    "from nltk.corpus import wordnet\n",
    "from nltk.stem import WordNetLemmatizer\n",
    "\n",
    "lemmatizer = WordNetLemmatizer()\n",
    "wordnet_map = {\"N\":wordnet.NOUN, \"V\":wordnet.VERB, \"J\":wordnet.ADJ, \"R\":wordnet.ADV}\n",
    "def lemmatize_words(text):\n",
    "    pos_tagged_text = nltk.pos_tag(text.split())\n",
    "    return \" \".join([lemmatizer.lemmatize(word, wordnet_map.get(pos[0], wordnet.NOUN)) for word, pos in pos_tagged_text])\n",
    "\n",
    "tweet_df[\"text_lemmatized\"] = tweet_df[\"text__stopfreq\"].apply(lambda text: lemmatize_words(text))\n",
    "tweet_df.head()\n"
   ]
  },
  {
   "cell_type": "markdown",
   "metadata": {},
   "source": [
    "6. ELIMINAREA COLOANELOR CARE NU VOR FI UTILIZATE"
   ]
  },
  {
   "cell_type": "code",
   "execution_count": 164,
   "metadata": {},
   "outputs": [],
   "source": [
    "#drop the columns\n",
    "tweet_df=tweet_df.drop([\"text_stemmed\",\"text__stopfreq\"],axis=1)"
   ]
  },
  {
   "cell_type": "markdown",
   "metadata": {},
   "source": [
    "7. CODIFICAREA VARIABILEI CATEGORIALE"
   ]
  },
  {
   "cell_type": "code",
   "execution_count": 165,
   "metadata": {},
   "outputs": [
    {
     "data": {
      "text/html": [
       "<div>\n",
       "<style scoped>\n",
       "    .dataframe tbody tr th:only-of-type {\n",
       "        vertical-align: middle;\n",
       "    }\n",
       "\n",
       "    .dataframe tbody tr th {\n",
       "        vertical-align: top;\n",
       "    }\n",
       "\n",
       "    .dataframe thead th {\n",
       "        text-align: right;\n",
       "    }\n",
       "</style>\n",
       "<table border=\"1\" class=\"dataframe\">\n",
       "  <thead>\n",
       "    <tr style=\"text-align: right;\">\n",
       "      <th></th>\n",
       "      <th>categorie</th>\n",
       "      <th>categorie_codificata</th>\n",
       "    </tr>\n",
       "  </thead>\n",
       "  <tbody>\n",
       "    <tr>\n",
       "      <td>0</td>\n",
       "      <td>neutru</td>\n",
       "      <td>1</td>\n",
       "    </tr>\n",
       "    <tr>\n",
       "      <td>1</td>\n",
       "      <td>neutru</td>\n",
       "      <td>1</td>\n",
       "    </tr>\n",
       "    <tr>\n",
       "      <td>2</td>\n",
       "      <td>negativ</td>\n",
       "      <td>0</td>\n",
       "    </tr>\n",
       "    <tr>\n",
       "      <td>3</td>\n",
       "      <td>pozitiv</td>\n",
       "      <td>2</td>\n",
       "    </tr>\n",
       "    <tr>\n",
       "      <td>4</td>\n",
       "      <td>pozitiv</td>\n",
       "      <td>2</td>\n",
       "    </tr>\n",
       "    <tr>\n",
       "      <td>...</td>\n",
       "      <td>...</td>\n",
       "      <td>...</td>\n",
       "    </tr>\n",
       "    <tr>\n",
       "      <td>4841</td>\n",
       "      <td>negativ</td>\n",
       "      <td>0</td>\n",
       "    </tr>\n",
       "    <tr>\n",
       "      <td>4842</td>\n",
       "      <td>neutru</td>\n",
       "      <td>1</td>\n",
       "    </tr>\n",
       "    <tr>\n",
       "      <td>4843</td>\n",
       "      <td>negativ</td>\n",
       "      <td>0</td>\n",
       "    </tr>\n",
       "    <tr>\n",
       "      <td>4844</td>\n",
       "      <td>negativ</td>\n",
       "      <td>0</td>\n",
       "    </tr>\n",
       "    <tr>\n",
       "      <td>4845</td>\n",
       "      <td>negativ</td>\n",
       "      <td>0</td>\n",
       "    </tr>\n",
       "  </tbody>\n",
       "</table>\n",
       "<p>4846 rows × 2 columns</p>\n",
       "</div>"
      ],
      "text/plain": [
       "     categorie  categorie_codificata\n",
       "0       neutru                     1\n",
       "1       neutru                     1\n",
       "2      negativ                     0\n",
       "3      pozitiv                     2\n",
       "4      pozitiv                     2\n",
       "...        ...                   ...\n",
       "4841   negativ                     0\n",
       "4842    neutru                     1\n",
       "4843   negativ                     0\n",
       "4844   negativ                     0\n",
       "4845   negativ                     0\n",
       "\n",
       "[4846 rows x 2 columns]"
      ]
     },
     "execution_count": 165,
     "metadata": {},
     "output_type": "execute_result"
    }
   ],
   "source": [
    "#label encoding\n",
    "from sklearn.preprocessing import LabelEncoder\n",
    "tweet_df['categorie_codificata'] = LabelEncoder().fit_transform(tweet_df['categorie'])\n",
    "tweet_df[[\"categorie\", \"categorie_codificata\"]] "
   ]
  },
  {
   "cell_type": "code",
   "execution_count": 166,
   "metadata": {},
   "outputs": [],
   "source": [
    "def clean_review(text):\n",
    "    clean_text = []\n",
    "    for w in word_tokenize(text):\n",
    "        if w.lower() not in stop:\n",
    "            pos = pos_tag([w])\n",
    "            new_w = lemmatizer.lemmatize(w, pos=get_simple_pos(pos[0][1]))\n",
    "            clean_text.append(new_w)\n",
    "    return clean_text\n",
    "\n",
    "def join_text(text):\n",
    "    return \" \".join(text)"
   ]
  },
  {
   "cell_type": "code",
   "execution_count": 167,
   "metadata": {},
   "outputs": [],
   "source": [
    "tweet_df=tweet_df.drop([\"categorie\",\"text_wo_stop\",\"comentariu\"],axis=1)"
   ]
  },
  {
   "cell_type": "markdown",
   "metadata": {},
   "source": [
    "PREVIZUALIZAREA TEXTULUI CURATAT SI PREPROCESAT"
   ]
  },
  {
   "cell_type": "code",
   "execution_count": 168,
   "metadata": {},
   "outputs": [
    {
     "data": {
      "text/html": [
       "<div>\n",
       "<style scoped>\n",
       "    .dataframe tbody tr th:only-of-type {\n",
       "        vertical-align: middle;\n",
       "    }\n",
       "\n",
       "    .dataframe tbody tr th {\n",
       "        vertical-align: top;\n",
       "    }\n",
       "\n",
       "    .dataframe thead th {\n",
       "        text-align: right;\n",
       "    }\n",
       "</style>\n",
       "<table border=\"1\" class=\"dataframe\">\n",
       "  <thead>\n",
       "    <tr style=\"text-align: right;\">\n",
       "      <th></th>\n",
       "      <th>token</th>\n",
       "      <th>text_lemmatized</th>\n",
       "      <th>categorie_codificata</th>\n",
       "    </tr>\n",
       "  </thead>\n",
       "  <tbody>\n",
       "    <tr>\n",
       "      <td>0</td>\n",
       "      <td>[„, potrivit, gran, compania, intenționează, mute, producția, rusia, deși, acolo, crește, compan...</td>\n",
       "      <td>potrivit gran intenționează mute producția rusia deși acolo creșt</td>\n",
       "      <td>1</td>\n",
       "    </tr>\n",
       "    <tr>\n",
       "      <td>1</td>\n",
       "      <td>[technopolis, intenționează, dezvolte, etape, suprafață, puțin, metri, pătrați, găzdui, companii...</td>\n",
       "      <td>technopoli intenționează dezvolt etap suprafață puțin metri pătrați găzdui companii lucrează teh...</td>\n",
       "      <td>1</td>\n",
       "    </tr>\n",
       "    <tr>\n",
       "      <td>2</td>\n",
       "      <td>[„, compania, internațională, industria, electronică, elcoteq, concediat, zeci, angajați, instal...</td>\n",
       "      <td>internațională industria electronică elcoteq concediat zeci angajați instalația tallinn</td>\n",
       "      <td>0</td>\n",
       "    </tr>\n",
       "    <tr>\n",
       "      <td>3</td>\n",
       "      <td>[odată, fabrică, producție, compania, șiar, crește, capacitatea, satisface, creșterea, preconiza...</td>\n",
       "      <td>odată fabrică producți șiar creșt capacitatea satisfac creșterea preconizată cererii îmbunătăți ...</td>\n",
       "      <td>2</td>\n",
       "    </tr>\n",
       "    <tr>\n",
       "      <td>4</td>\n",
       "      <td>[conform, strategiei, actualizate, companiei, anii, basware, vizează, creștere, termen, lung, vâ...</td>\n",
       "      <td>conform strategiei actualiz companiei anii baswar vizează creșter termen lung vânzărilor nete in...</td>\n",
       "      <td>2</td>\n",
       "    </tr>\n",
       "    <tr>\n",
       "      <td>5</td>\n",
       "      <td>[finanțarea, creșterii, aspocomp, aspocomp, își, urmărește, agresiv, strategia, creștere, concen...</td>\n",
       "      <td>finanțarea creșterii aspocomp aspocomp își urmăreșt agresiv strategia creșter concentrândus pcbu...</td>\n",
       "      <td>2</td>\n",
       "    </tr>\n",
       "    <tr>\n",
       "      <td>6</td>\n",
       "      <td>[„, pentru, ultimul, trimestru, anului, vânzările, nete, componentei, dublat, milioane, eur, mil...</td>\n",
       "      <td>pentru ultimul trimestru vânzările nete componentei dublat aceeași perioadă preced timp mutat pr...</td>\n",
       "      <td>2</td>\n",
       "    </tr>\n",
       "    <tr>\n",
       "      <td>7</td>\n",
       "      <td>[„, în, trimestru, anului, vânzările, nete, crescut, milioane, eur, profitul, operațional, milio...</td>\n",
       "      <td>în trimestru vânzările nete profitul operațion</td>\n",
       "      <td>2</td>\n",
       "    </tr>\n",
       "    <tr>\n",
       "      <td>8</td>\n",
       "      <td>[profitul, operațional, crescut, milioane, eur, milioane, eur, perioada, corespunzătoare, reprez...</td>\n",
       "      <td>profitul operațion perioada corespunzătoar reprezentând vânzările nete</td>\n",
       "      <td>2</td>\n",
       "    </tr>\n",
       "    <tr>\n",
       "      <td>9</td>\n",
       "      <td>[profitul, operațional, totalizat, milioane, eur, creștere, față, milioane, eur, reprezentând, v...</td>\n",
       "      <td>profitul operațion totalizat creșter față reprezentând vânzările nete</td>\n",
       "      <td>2</td>\n",
       "    </tr>\n",
       "  </tbody>\n",
       "</table>\n",
       "</div>"
      ],
      "text/plain": [
       "                                                                                                 token  \\\n",
       "0  [„, potrivit, gran, compania, intenționează, mute, producția, rusia, deși, acolo, crește, compan...   \n",
       "1  [technopolis, intenționează, dezvolte, etape, suprafață, puțin, metri, pătrați, găzdui, companii...   \n",
       "2  [„, compania, internațională, industria, electronică, elcoteq, concediat, zeci, angajați, instal...   \n",
       "3  [odată, fabrică, producție, compania, șiar, crește, capacitatea, satisface, creșterea, preconiza...   \n",
       "4  [conform, strategiei, actualizate, companiei, anii, basware, vizează, creștere, termen, lung, vâ...   \n",
       "5  [finanțarea, creșterii, aspocomp, aspocomp, își, urmărește, agresiv, strategia, creștere, concen...   \n",
       "6  [„, pentru, ultimul, trimestru, anului, vânzările, nete, componentei, dublat, milioane, eur, mil...   \n",
       "7  [„, în, trimestru, anului, vânzările, nete, crescut, milioane, eur, profitul, operațional, milio...   \n",
       "8  [profitul, operațional, crescut, milioane, eur, milioane, eur, perioada, corespunzătoare, reprez...   \n",
       "9  [profitul, operațional, totalizat, milioane, eur, creștere, față, milioane, eur, reprezentând, v...   \n",
       "\n",
       "                                                                                       text_lemmatized  \\\n",
       "0                                    potrivit gran intenționează mute producția rusia deși acolo creșt   \n",
       "1  technopoli intenționează dezvolt etap suprafață puțin metri pătrați găzdui companii lucrează teh...   \n",
       "2              internațională industria electronică elcoteq concediat zeci angajați instalația tallinn   \n",
       "3  odată fabrică producți șiar creșt capacitatea satisfac creșterea preconizată cererii îmbunătăți ...   \n",
       "4  conform strategiei actualiz companiei anii baswar vizează creșter termen lung vânzărilor nete in...   \n",
       "5  finanțarea creșterii aspocomp aspocomp își urmăreșt agresiv strategia creșter concentrândus pcbu...   \n",
       "6  pentru ultimul trimestru vânzările nete componentei dublat aceeași perioadă preced timp mutat pr...   \n",
       "7                                                       în trimestru vânzările nete profitul operațion   \n",
       "8                               profitul operațion perioada corespunzătoar reprezentând vânzările nete   \n",
       "9                                profitul operațion totalizat creșter față reprezentând vânzările nete   \n",
       "\n",
       "   categorie_codificata  \n",
       "0                     1  \n",
       "1                     1  \n",
       "2                     0  \n",
       "3                     2  \n",
       "4                     2  \n",
       "5                     2  \n",
       "6                     2  \n",
       "7                     2  \n",
       "8                     2  \n",
       "9                     2  "
      ]
     },
     "execution_count": 168,
     "metadata": {},
     "output_type": "execute_result"
    }
   ],
   "source": [
    "tweet_df.head(10)"
   ]
  },
  {
   "cell_type": "markdown",
   "metadata": {},
   "source": [
    "ALGORITMI DE CLASIFICARE"
   ]
  },
  {
   "cell_type": "code",
   "execution_count": 169,
   "metadata": {},
   "outputs": [],
   "source": [
    "from sklearn.linear_model import LogisticRegression\n",
    "from sklearn.naive_bayes import GaussianNB\n",
    "from sklearn.naive_bayes import BernoulliNB\n",
    "from sklearn.naive_bayes import MultinomialNB\n",
    "from sklearn.naive_bayes import MultinomialNB\n",
    "\n",
    "from sklearn.ensemble import GradientBoostingClassifier\n",
    "from sklearn.tree import DecisionTreeClassifier\n",
    "from sklearn.neighbors import KNeighborsClassifier\n",
    "from xgboost import XGBClassifier\n",
    "from sklearn.linear_model import SGDClassifier\n",
    "from sklearn.ensemble import RandomForestClassifier"
   ]
  },
  {
   "cell_type": "markdown",
   "metadata": {},
   "source": [
    "IMPARTIREA BAZEI IN SET DE DATE DE ANTRENAMENT SI SET DE DATE DE TESTARE"
   ]
  },
  {
   "cell_type": "code",
   "execution_count": 170,
   "metadata": {},
   "outputs": [
    {
     "data": {
      "text/plain": [
       "((3392,), (1454,), (3392,), (1454,))"
      ]
     },
     "execution_count": 170,
     "metadata": {},
     "output_type": "execute_result"
    }
   ],
   "source": [
    "\n",
    "from sklearn.model_selection import train_test_split\n",
    "from sklearn.pipeline import Pipeline\n",
    "from sklearn.feature_extraction.text import TfidfVectorizer\n",
    "from sklearn.svm import LinearSVC\n",
    "from sklearn.metrics import accuracy_score\n",
    "from sklearn.feature_extraction.text import TfidfTransformer\n",
    "\n",
    "from sklearn.metrics import accuracy_score, confusion_matrix,classification_report\n",
    "\n",
    "x_train,x_test,y_train,y_test = train_test_split(tweet_df.text_lemmatized,tweet_df.categorie_codificata,test_size = 0.3 , random_state = 0)\n",
    "\n",
    "x_train.shape,x_test.shape,y_train.shape,y_test.shape"
   ]
  },
  {
   "cell_type": "markdown",
   "metadata": {},
   "source": [
    "1. LINEAR SUPPORT VECTOR MACHINE"
   ]
  },
  {
   "cell_type": "code",
   "execution_count": 171,
   "metadata": {},
   "outputs": [
    {
     "name": "stdout",
     "output_type": "stream",
     "text": [
      "MODEL - LINEAR SVC\n",
      "accuracy score: 74.14%\n",
      "[[ 86  62  34]\n",
      " [ 14 776  89]\n",
      " [ 14 163 216]]\n",
      "              precision    recall  f1-score   support\n",
      "\n",
      "           0       0.75      0.47      0.58       182\n",
      "           1       0.78      0.88      0.83       879\n",
      "           2       0.64      0.55      0.59       393\n",
      "\n",
      "    accuracy                           0.74      1454\n",
      "   macro avg       0.72      0.63      0.67      1454\n",
      "weighted avg       0.74      0.74      0.73      1454\n",
      "\n"
     ]
    }
   ],
   "source": [
    "pipe = Pipeline([('tfidf', TfidfVectorizer()),\n",
    "                 ('model', LinearSVC())])\n",
    "\n",
    "model = pipe.fit(x_train, y_train)\n",
    "prediction = model.predict(x_test)\n",
    "print(\"MODEL - LINEAR SVC\")\n",
    "print(\"accuracy score: {}%\".format(round(accuracy_score(y_test, prediction)*100,2)))\n",
    "print(confusion_matrix(y_test, prediction))\n",
    "print(classification_report(y_test, prediction))"
   ]
  },
  {
   "cell_type": "markdown",
   "metadata": {},
   "source": [
    "2. LOGISTIC REGRESSION"
   ]
  },
  {
   "cell_type": "code",
   "execution_count": 172,
   "metadata": {},
   "outputs": [
    {
     "name": "stdout",
     "output_type": "stream",
     "text": [
      "MODEL - LOGISTIC REGRESSION\n",
      "accuracy: 72.49%\n",
      "[[ 60  98  24]\n",
      " [  5 852  22]\n",
      " [  6 245 142]]\n",
      "              precision    recall  f1-score   support\n",
      "\n",
      "           0       0.85      0.33      0.47       182\n",
      "           1       0.71      0.97      0.82       879\n",
      "           2       0.76      0.36      0.49       393\n",
      "\n",
      "    accuracy                           0.72      1454\n",
      "   macro avg       0.77      0.55      0.59      1454\n",
      "weighted avg       0.74      0.72      0.69      1454\n",
      "\n"
     ]
    },
    {
     "name": "stderr",
     "output_type": "stream",
     "text": [
      "C:\\Users\\40751\\Anaconda3\\lib\\site-packages\\sklearn\\linear_model\\logistic.py:432: FutureWarning: Default solver will be changed to 'lbfgs' in 0.22. Specify a solver to silence this warning.\n",
      "  FutureWarning)\n",
      "C:\\Users\\40751\\Anaconda3\\lib\\site-packages\\sklearn\\linear_model\\logistic.py:469: FutureWarning: Default multi_class will be changed to 'auto' in 0.22. Specify the multi_class option to silence this warning.\n",
      "  \"this warning.\", FutureWarning)\n"
     ]
    }
   ],
   "source": [
    "pipe = Pipeline([('vect', CountVectorizer()),\n",
    "                 ('tfidf', TfidfTransformer()),\n",
    "                 ('model', LogisticRegression())])\n",
    "\n",
    "model = pipe.fit(x_train, y_train)\n",
    "prediction = model.predict(x_test)\n",
    "print(\"MODEL - LOGISTIC REGRESSION\")\n",
    "print(\"accuracy: {}%\".format(round(accuracy_score(y_test, prediction)*100,2)))\n",
    "print(confusion_matrix(y_test, prediction))\n",
    "print(classification_report(y_test, prediction))"
   ]
  },
  {
   "cell_type": "markdown",
   "metadata": {},
   "source": [
    "3. MULTINOMIAL NAIVE BAYES"
   ]
  },
  {
   "cell_type": "code",
   "execution_count": 173,
   "metadata": {},
   "outputs": [
    {
     "name": "stdout",
     "output_type": "stream",
     "text": [
      "MULTINOMIAL NAIVE BAYES\n",
      "accuracy: 68.98%\n",
      "[[ 10 115  57]\n",
      " [  0 852  27]\n",
      " [  1 251 141]]\n",
      "              precision    recall  f1-score   support\n",
      "\n",
      "           0       0.91      0.05      0.10       182\n",
      "           1       0.70      0.97      0.81       879\n",
      "           2       0.63      0.36      0.46       393\n",
      "\n",
      "    accuracy                           0.69      1454\n",
      "   macro avg       0.75      0.46      0.46      1454\n",
      "weighted avg       0.71      0.69      0.63      1454\n",
      "\n"
     ]
    }
   ],
   "source": [
    "pipe = Pipeline([('vect', CountVectorizer()),\n",
    "                 ('tfidf', TfidfTransformer()),\n",
    "                 ('model', MultinomialNB())])\n",
    "\n",
    "model = pipe.fit(x_train, y_train)\n",
    "prediction = model.predict(x_test)\n",
    "print(\"MULTINOMIAL NAIVE BAYES\")\n",
    "print(\"accuracy: {}%\".format(round(accuracy_score(y_test, prediction)*100,2)))\n",
    "print(confusion_matrix(y_test, prediction))\n",
    "print(classification_report(y_test, prediction))"
   ]
  },
  {
   "cell_type": "markdown",
   "metadata": {},
   "source": [
    "4. BERNOULLI NAIVE BAYES "
   ]
  },
  {
   "cell_type": "code",
   "execution_count": 174,
   "metadata": {},
   "outputs": [
    {
     "name": "stdout",
     "output_type": "stream",
     "text": [
      "BERNOULLIS NAIVE BAYES\n",
      "accuracy: 68.23%\n",
      "[[  6 112  64]\n",
      " [  0 839  40]\n",
      " [  0 246 147]]\n",
      "              precision    recall  f1-score   support\n",
      "\n",
      "           0       1.00      0.03      0.06       182\n",
      "           1       0.70      0.95      0.81       879\n",
      "           2       0.59      0.37      0.46       393\n",
      "\n",
      "    accuracy                           0.68      1454\n",
      "   macro avg       0.76      0.45      0.44      1454\n",
      "weighted avg       0.71      0.68      0.62      1454\n",
      "\n"
     ]
    }
   ],
   "source": [
    "pipe = Pipeline([('vect', CountVectorizer()),\n",
    "                 ('tfidf', TfidfTransformer()),\n",
    "                 ('model', BernoulliNB())])\n",
    "model = pipe.fit(x_train, y_train)\n",
    "prediction = model.predict(x_test)\n",
    "print(\"BERNOULLIS NAIVE BAYES\")\n",
    "print(\"accuracy: {}%\".format(round(accuracy_score(y_test, prediction)*100,2)))\n",
    "print(confusion_matrix(y_test, prediction))\n",
    "print(classification_report(y_test, prediction))"
   ]
  },
  {
   "cell_type": "markdown",
   "metadata": {},
   "source": [
    "5. GRADIENT BOOSTING CLASSIFICATION MODEL"
   ]
  },
  {
   "cell_type": "code",
   "execution_count": 175,
   "metadata": {},
   "outputs": [
    {
     "name": "stdout",
     "output_type": "stream",
     "text": [
      "GRADIENT BOOST\n",
      "accuracy: 60.45%\n",
      "[[  0 182   0]\n",
      " [  0 879   0]\n",
      " [  0 393   0]]\n",
      "              precision    recall  f1-score   support\n",
      "\n",
      "           0       0.00      0.00      0.00       182\n",
      "           1       0.60      1.00      0.75       879\n",
      "           2       0.00      0.00      0.00       393\n",
      "\n",
      "    accuracy                           0.60      1454\n",
      "   macro avg       0.20      0.33      0.25      1454\n",
      "weighted avg       0.37      0.60      0.46      1454\n",
      "\n"
     ]
    },
    {
     "name": "stderr",
     "output_type": "stream",
     "text": [
      "C:\\Users\\40751\\Anaconda3\\lib\\site-packages\\sklearn\\metrics\\classification.py:1437: UndefinedMetricWarning: Precision and F-score are ill-defined and being set to 0.0 in labels with no predicted samples.\n",
      "  'precision', 'predicted', average, warn_for)\n"
     ]
    }
   ],
   "source": [
    "pipe = Pipeline([('vect', CountVectorizer()),\n",
    "                 ('tfidf', TfidfTransformer()),\n",
    "                 ('model', GradientBoostingClassifier(loss = 'deviance',\n",
    "                                                   learning_rate = 0.01,\n",
    "                                                   n_estimators = 10,\n",
    "                                                   max_depth = 5,\n",
    "                                                   random_state=55))])\n",
    "model = pipe.fit(x_train, y_train)\n",
    "prediction = model.predict(x_test)\n",
    "print(\"GRADIENT BOOST\")\n",
    "print(\"accuracy: {}%\".format(round(accuracy_score(y_test, prediction)*100,2)))\n",
    "print(confusion_matrix(y_test, prediction))\n",
    "print(classification_report(y_test, prediction))"
   ]
  },
  {
   "cell_type": "markdown",
   "metadata": {},
   "source": [
    "6. XGBOOST CLASSIFICATION MODEL"
   ]
  },
  {
   "cell_type": "code",
   "execution_count": 176,
   "metadata": {},
   "outputs": [
    {
     "name": "stdout",
     "output_type": "stream",
     "text": [
      "XGBOOST\n",
      "accuracy: 70.63%\n",
      "[[ 76  93  13]\n",
      " [  7 842  30]\n",
      " [  4 280 109]]\n",
      "              precision    recall  f1-score   support\n",
      "\n",
      "           0       0.87      0.42      0.57       182\n",
      "           1       0.69      0.96      0.80       879\n",
      "           2       0.72      0.28      0.40       393\n",
      "\n",
      "    accuracy                           0.71      1454\n",
      "   macro avg       0.76      0.55      0.59      1454\n",
      "weighted avg       0.72      0.71      0.67      1454\n",
      "\n"
     ]
    }
   ],
   "source": [
    "pipe = Pipeline([('vect', CountVectorizer()),\n",
    "                 ('tfidf', TfidfTransformer()),\n",
    "                 ('model', XGBClassifier(loss = 'deviance',\n",
    "                                                   learning_rate = 0.01,\n",
    "                                                   n_estimators = 10,\n",
    "                                                   max_depth = 5,\n",
    "                                                   random_state=2020))])\n",
    "\n",
    "model = pipe.fit(x_train, y_train)\n",
    "prediction = model.predict(x_test)\n",
    "print(\"XGBOOST\")\n",
    "print(\"accuracy: {}%\".format(round(accuracy_score(y_test, prediction)*100,2)))\n",
    "print(confusion_matrix(y_test, prediction))\n",
    "print(classification_report(y_test, prediction))"
   ]
  },
  {
   "cell_type": "markdown",
   "metadata": {},
   "source": [
    "7. DECISION TREE CLASSIFICATION MODEL"
   ]
  },
  {
   "cell_type": "code",
   "execution_count": 177,
   "metadata": {},
   "outputs": [
    {
     "name": "stdout",
     "output_type": "stream",
     "text": [
      "DECISION TREE\n",
      "accuracy: 70.84%\n",
      "[[ 83  89  10]\n",
      " [ 11 852  16]\n",
      " [  6 292  95]]\n",
      "              precision    recall  f1-score   support\n",
      "\n",
      "           0       0.83      0.46      0.59       182\n",
      "           1       0.69      0.97      0.81       879\n",
      "           2       0.79      0.24      0.37       393\n",
      "\n",
      "    accuracy                           0.71      1454\n",
      "   macro avg       0.77      0.56      0.59      1454\n",
      "weighted avg       0.73      0.71      0.66      1454\n",
      "\n"
     ]
    }
   ],
   "source": [
    "pipe = Pipeline([('vect', CountVectorizer()),\n",
    "                 ('tfidf', TfidfTransformer()),\n",
    "                 ('model', DecisionTreeClassifier(criterion= 'entropy',\n",
    "                                           max_depth = 10, \n",
    "                                           splitter='best', \n",
    "                                           random_state=2020))])\n",
    "model = pipe.fit(x_train, y_train)\n",
    "prediction = model.predict(x_test)\n",
    "print(\"DECISION TREE\")\n",
    "print(\"accuracy: {}%\".format(round(accuracy_score(y_test, prediction)*100,2)))\n",
    "print(confusion_matrix(y_test, prediction))\n",
    "print(classification_report(y_test, prediction))"
   ]
  },
  {
   "cell_type": "markdown",
   "metadata": {},
   "source": [
    "8. K- NEAREST NEIGHBOUR CLASSIFIER MODEL"
   ]
  },
  {
   "cell_type": "code",
   "execution_count": 178,
   "metadata": {},
   "outputs": [
    {
     "name": "stdout",
     "output_type": "stream",
     "text": [
      "K NEAREST NEIGHBOR\n",
      "accuracy: 70.15%\n",
      "[[ 60  66  56]\n",
      " [ 11 753 115]\n",
      " [ 12 174 207]]\n",
      "              precision    recall  f1-score   support\n",
      "\n",
      "           0       0.72      0.33      0.45       182\n",
      "           1       0.76      0.86      0.80       879\n",
      "           2       0.55      0.53      0.54       393\n",
      "\n",
      "    accuracy                           0.70      1454\n",
      "   macro avg       0.68      0.57      0.60      1454\n",
      "weighted avg       0.70      0.70      0.69      1454\n",
      "\n"
     ]
    }
   ],
   "source": [
    "pipe = Pipeline([('vect', CountVectorizer()),\n",
    "                 ('tfidf', TfidfTransformer()),\n",
    "                 ('model', KNeighborsClassifier(n_neighbors = 10,weights = 'distance',algorithm = 'brute'))])\n",
    "model = pipe.fit(x_train, y_train)\n",
    "prediction = model.predict(x_test)\n",
    "print(\"K NEAREST NEIGHBOR\")\n",
    "print(\"accuracy: {}%\".format(round(accuracy_score(y_test, prediction)*100,2)))\n",
    "print(confusion_matrix(y_test, prediction))\n",
    "print(classification_report(y_test, prediction))"
   ]
  }
 ],
 "metadata": {
  "kernelspec": {
   "display_name": "Python 3",
   "language": "python",
   "name": "python3"
  },
  "language_info": {
   "codemirror_mode": {
    "name": "ipython",
    "version": 3
   },
   "file_extension": ".py",
   "mimetype": "text/x-python",
   "name": "python",
   "nbconvert_exporter": "python",
   "pygments_lexer": "ipython3",
   "version": "3.7.4"
  }
 },
 "nbformat": 4,
 "nbformat_minor": 4
}
